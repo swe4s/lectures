{
 "cells": [
  {
   "cell_type": "code",
   "execution_count": 1,
   "metadata": {},
   "outputs": [],
   "source": [
    "import pandas as pd\n",
    "import statsmodels.api as sm\n",
    "import pandas as pd"
   ]
  },
  {
   "cell_type": "code",
   "execution_count": 19,
   "metadata": {},
   "outputs": [],
   "source": [
    "def get_logit(dist_goal_df):\n",
    "    dist_goal_df['const'] = 1\n",
    "    X = dist_goal_df[['const', 'distance']]\n",
    "    y = dist_goal_df['is_goal']\n",
    "    logit_model = sm.Logit(y, X)\n",
    "    logit_result = logit_model.fit()\n",
    "    return logit_result"
   ]
  },
  {
   "cell_type": "code",
   "execution_count": 20,
   "metadata": {},
   "outputs": [],
   "source": [
    "def get_working_dataframe(df_base):\n",
    "    working_df = df_base[['arenaAdjustedShotDistance', 'goal']]\n",
    "    working_df = working_df.rename(columns={'arenaAdjustedShotDistance': 'distance', 'goal': 'is_goal'})\n",
    "    return working_df"
   ]
  },
  {
   "cell_type": "code",
   "execution_count": 21,
   "metadata": {},
   "outputs": [],
   "source": [
    "def get_base_dataframe():\n",
    "    file_path = 'shots_2022.csv'\n",
    "    df_base = pd.read_csv(file_path)\n",
    "    return df_base"
   ]
  },
  {
   "cell_type": "code",
   "execution_count": 22,
   "metadata": {},
   "outputs": [],
   "source": [
    "def run_test_case(logit, distance):\n",
    "    test_case_const = 1\n",
    "    test_case = {'const': test_case_const, 'distance': distance}\n",
    "    test_case_df = pd.DataFrame(test_case, index=[0])\n",
    "    predicted_probability = logit.predict(test_case_df)\n",
    "    predicted_class = (predicted_probability >= 0.5).astype(int)\n",
    "    print(f\"Predicted Probability: {predicted_probability.iloc[0]:.4f}\")\n",
    "    print(f\"Predicted Class: {predicted_class.iloc[0]}\")"
   ]
  },
  {
   "cell_type": "code",
   "execution_count": 24,
   "metadata": {},
   "outputs": [
    {
     "name": "stdout",
     "output_type": "stream",
     "text": [
      "Optimization terminated successfully.\n",
      "         Current function value: 0.244490\n",
      "         Iterations 7\n",
      "Predicted Probability: 0.0809\n",
      "Predicted Class: 0\n"
     ]
    }
   ],
   "source": [
    "base_df = get_base_dataframe()\n",
    "working_df = get_working_dataframe(base_df)\n",
    "logit = get_logit(working_df)\n",
    "run_test_case(logit,25)"
   ]
  },
  {
   "cell_type": "code",
   "execution_count": 8,
   "metadata": {},
   "outputs": [
    {
     "data": {
      "text/plain": [
       "['hockey_logit.joblib']"
      ]
     },
     "execution_count": 8,
     "metadata": {},
     "output_type": "execute_result"
    }
   ],
   "source": [
    "import joblib\n",
    "joblib.dump(logit, 'hockey_logit.joblib')"
   ]
  },
  {
   "cell_type": "code",
   "execution_count": null,
   "metadata": {},
   "outputs": [],
   "source": [
    "from flask import Flask, request, jsonify\n",
    "import joblib\n",
    "\n",
    "app = Flask(__name__)\n",
    "model = joblib.load('hockey_logit.joblib')\n",
    "@app.route('/predict', methods=['POST'])\n",
    "def predict():\n",
    "    try:\n",
    "        data = request.get_json()\n",
    "        features = data['features']\n",
    "        prediction = model.predict([features])[0]\n",
    "        return jsonify({'prediction': prediction})\n",
    "    except Exception as e:\n",
    "        return jsonify({'error': str(e)})\n",
    "\n",
    "if __name__ == '__main__':\n",
    "    app.run(debug=True)"
   ]
  }
 ],
 "metadata": {
  "kernelspec": {
   "display_name": "base",
   "language": "python",
   "name": "python3"
  },
  "language_info": {
   "codemirror_mode": {
    "name": "ipython",
    "version": 3
   },
   "file_extension": ".py",
   "mimetype": "text/x-python",
   "name": "python",
   "nbconvert_exporter": "python",
   "pygments_lexer": "ipython3",
   "version": "3.10.11"
  }
 },
 "nbformat": 4,
 "nbformat_minor": 2
}
