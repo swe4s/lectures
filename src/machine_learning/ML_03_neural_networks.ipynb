{
 "cells": [
  {
   "cell_type": "markdown",
   "metadata": {},
   "source": [
    "neural networks\n",
    "\n",
    "shot_distance\n",
    "shot_angle\n",
    "x,y coodinates\n",
    "royal_road\n",
    "relative_rest\n",
    "last_event_type\n",
    "number_of_shots\n",
    "shot_type\n",
    "shooter_left_right\n",
    "relative_score\n",
    "\n",
    "power_play\n",
    "empty_net\n",
    "predicting_rare_events"
   ]
  },
  {
   "cell_type": "code",
   "execution_count": 22,
   "metadata": {},
   "outputs": [],
   "source": [
    "def print_results(y_test, y_pred):\n",
    "    from sklearn.metrics import accuracy_score, classification_report, confusion_matrix\n",
    "    print(\"Neural Network Results:\")\n",
    "    print(\"Accuracy:\", accuracy_score(y_test, y_pred))\n",
    "    print(\"Confusion Matrix:\\n\", confusion_matrix(y_test, y_pred))\n",
    "    print(\"Classification Report:\\n\", classification_report(y_test, y_pred))  "
   ]
  },
  {
   "cell_type": "code",
   "execution_count": 23,
   "metadata": {},
   "outputs": [],
   "source": [
    "def run_neural_network(working_df):\n",
    "    import pandas as pd\n",
    "    import numpy as np\n",
    "    from sklearn.model_selection import train_test_split\n",
    "    from sklearn.preprocessing import StandardScaler\n",
    "    from tensorflow.keras.models import Sequential\n",
    "    from tensorflow.keras.layers import Dense, Dropout, BatchNormalization\n",
    "    from tensorflow.keras import regularizers\n",
    "\n",
    "    X = working_df[['shot_distance', 'shot_type_id','prior_event_id','rest_difference','shooter_time_on_ice','on_man_advantage']]\n",
    "    y = working_df['is_goal']\n",
    "    X_train, X_test, y_train, y_test = train_test_split(X, y, test_size=0.2, random_state=42)\n",
    "\n",
    "    scaler = StandardScaler()\n",
    "    X_train_scaled = scaler.fit_transform(X_train)\n",
    "    X_test_scaled = scaler.transform(X_test)\n",
    "\n",
    "    class_weights = {0: 0.07, 1: 0.93}  \n",
    "\n",
    "    model = Sequential()\n",
    "    model.add(Dense(64, activation='relu', input_dim=6, kernel_regularizer=regularizers.l2(0.01)))\n",
    "    model.add(BatchNormalization())\n",
    "    model.add(Dropout(0.5))\n",
    "    model.add(Dense(32, activation='relu', kernel_regularizer=regularizers.l2(0.01)))\n",
    "    model.add(BatchNormalization())\n",
    "    model.add(Dropout(0.5))\n",
    "    model.add(Dense(1, activation='sigmoid'))\n",
    "\n",
    "    model.compile(optimizer='adam', loss='binary_crossentropy', metrics=['accuracy'])\n",
    "    model.fit(X_train_scaled, y_train, epochs=10, batch_size=32, validation_data=(X_test_scaled, y_test), class_weight=class_weights)\n",
    "\n",
    "    predictions = model.predict(X_test_scaled)\n",
    "    y_pred = np.round(predictions).flatten()\n",
    "    return (y_test, y_pred)\n"
   ]
  },
  {
   "cell_type": "code",
   "execution_count": 19,
   "metadata": {},
   "outputs": [],
   "source": [
    "def get_working_dataframe(df_base):\n",
    "    def shooter_on_man_advantage(awaySkatersOnIce, homeSkatersOnIce,isHomeTeam):\n",
    "        if isHomeTeam:\n",
    "            if homeSkatersOnIce > awaySkatersOnIce:\n",
    "                return True\n",
    "            else:\n",
    "                return False\n",
    "        else:\n",
    "            if awaySkatersOnIce > homeSkatersOnIce:\n",
    "                return True\n",
    "            else:\n",
    "                return False\n",
    "\n",
    "    working_df = df_base[['arenaAdjustedShotDistance', 'goal', 'shotType','lastEventCategory','averageRestDifference','shooterTimeOnIce','awaySkatersOnIce', 'homeSkatersOnIce','isHomeTeam']]\n",
    "    working_df = working_df.iloc[:]\n",
    "    working_df['shotType'] = working_df['shotType'].fillna('UNK')\n",
    "    shot_type_mapping = {'WRIST': 1, 'SLAP': 2, 'TIP': 3, 'SNAP': 4, 'BACK': 5, 'WRAP': 6, 'DEFL': 7, 'UNK': 8}\n",
    "    working_df['shot_type_id'] = working_df['shotType'].map(shot_type_mapping)\n",
    "    prior_event_mapping = {'HIT': 0, 'FAC': 1, 'BLOCK': 2, 'SHOT': 3, 'GIVE': 4, 'MISS': 5, 'TAKE': 6, 'DELPEN': 7, 'STOP': 8, 'CHL': 9}\n",
    "    working_df['prior_event_id'] = working_df['lastEventCategory'].map(prior_event_mapping)\n",
    "    working_df['on_man_advantage'] = working_df.apply(lambda row: shooter_on_man_advantage(row['awaySkatersOnIce'], row['homeSkatersOnIce'], row['isHomeTeam']), axis=1)\n",
    "    working_df = working_df.rename(columns={'arenaAdjustedShotDistance': 'shot_distance', 'averageRestDifference': 'rest_difference','shooterTimeOnIce': 'shooter_time_on_ice', 'goal': 'is_goal'})\n",
    "    working_df = working_df[['shot_distance', 'shot_type_id', 'prior_event_id', 'rest_difference','shooter_time_on_ice','on_man_advantage', 'is_goal',]]\n",
    "    return working_df"
   ]
  },
  {
   "cell_type": "code",
   "execution_count": 20,
   "metadata": {},
   "outputs": [],
   "source": [
    "def get_base_dataframe():\n",
    "    import pandas as pd\n",
    "    file_path = 'shots_2022.csv'\n",
    "    df_base = pd.read_csv(file_path)\n",
    "    return df_base"
   ]
  },
  {
   "cell_type": "code",
   "execution_count": 24,
   "metadata": {},
   "outputs": [
    {
     "name": "stdout",
     "output_type": "stream",
     "text": [
      "Epoch 1/10\n",
      "3051/3051 [==============================] - 8s 2ms/step - loss: 0.1530 - accuracy: 0.5342 - val_loss: 0.6638 - val_accuracy: 0.5488\n",
      "Epoch 2/10\n",
      "3051/3051 [==============================] - 7s 2ms/step - loss: 0.0870 - accuracy: 0.5622 - val_loss: 0.6836 - val_accuracy: 0.5235\n",
      "Epoch 3/10\n",
      "3051/3051 [==============================] - 7s 2ms/step - loss: 0.0867 - accuracy: 0.5589 - val_loss: 0.6777 - val_accuracy: 0.5300\n",
      "Epoch 4/10\n",
      "3051/3051 [==============================] - 7s 2ms/step - loss: 0.0863 - accuracy: 0.5599 - val_loss: 0.6499 - val_accuracy: 0.5803\n",
      "Epoch 5/10\n",
      "3051/3051 [==============================] - 8s 2ms/step - loss: 0.0864 - accuracy: 0.5637 - val_loss: 0.6678 - val_accuracy: 0.5470\n",
      "Epoch 6/10\n",
      "3051/3051 [==============================] - 8s 3ms/step - loss: 0.0865 - accuracy: 0.5663 - val_loss: 0.6567 - val_accuracy: 0.5540\n",
      "Epoch 7/10\n",
      "3051/3051 [==============================] - 8s 3ms/step - loss: 0.0863 - accuracy: 0.5686 - val_loss: 0.6223 - val_accuracy: 0.5931\n",
      "Epoch 8/10\n",
      "3051/3051 [==============================] - 7s 2ms/step - loss: 0.0863 - accuracy: 0.5676 - val_loss: 0.6577 - val_accuracy: 0.5536\n",
      "Epoch 9/10\n",
      "3051/3051 [==============================] - 7s 2ms/step - loss: 0.0864 - accuracy: 0.5718 - val_loss: 0.6520 - val_accuracy: 0.5480\n",
      "Epoch 10/10\n",
      "3051/3051 [==============================] - 8s 3ms/step - loss: 0.0866 - accuracy: 0.5689 - val_loss: 0.6400 - val_accuracy: 0.5689\n",
      "763/763 [==============================] - 1s 1ms/step\n",
      "Neural Network Results:\n",
      "Accuracy: 0.5688765057772679\n",
      "Confusion Matrix:\n",
      " [[12579 10023]\n",
      " [  499  1305]]\n",
      "Classification Report:\n",
      "               precision    recall  f1-score   support\n",
      "\n",
      "           0       0.96      0.56      0.71     22602\n",
      "           1       0.12      0.72      0.20      1804\n",
      "\n",
      "    accuracy                           0.57     24406\n",
      "   macro avg       0.54      0.64      0.45     24406\n",
      "weighted avg       0.90      0.57      0.67     24406\n",
      "\n"
     ]
    }
   ],
   "source": [
    "base_dataframe = get_base_dataframe()\n",
    "working_dataframe = get_working_dataframe(base_dataframe)\n",
    "(y_test, y_pred) = run_neural_network(working_dataframe)\n",
    "print_results(y_test, y_pred)"
   ]
  }
 ],
 "metadata": {
  "kernelspec": {
   "display_name": "base",
   "language": "python",
   "name": "python3"
  },
  "language_info": {
   "codemirror_mode": {
    "name": "ipython",
    "version": 3
   },
   "file_extension": ".py",
   "mimetype": "text/x-python",
   "name": "python",
   "nbconvert_exporter": "python",
   "pygments_lexer": "ipython3",
   "version": "3.10.11"
  }
 },
 "nbformat": 4,
 "nbformat_minor": 2
}
