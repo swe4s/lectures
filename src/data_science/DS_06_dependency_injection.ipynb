{
 "cells": [
  {
   "cell_type": "markdown",
   "metadata": {},
   "source": [
    "Depdencies are all of the stuff to make the function do its magic"
   ]
  },
  {
   "cell_type": "code",
   "execution_count": null,
   "metadata": {},
   "outputs": [],
   "source": [
    "import pandas as pd\n",
    "\n",
    "#input data\n",
    "input_file_path = 'input_data.csv'\n",
    "df = pd.read_csv(input_file_path)\n",
    "\n",
    "#clean data\n",
    "df['Age'].fillna(df['Age'], inplace=True)\n",
    "df['Salary'].fillna(df['Salary'], inplace=True)\n",
    "\n",
    "#analyze data\n",
    "results = df['Salary'].mean()\n",
    "\n",
    "#output data\n",
    "import os\n",
    "from datetime import datetime\n",
    "directory_path = 'results'\n",
    "current_datetime = datetime.now()\n",
    "formatted_datetime = current_datetime.strftime(\"%Y%m%d%H%M%S\")\n",
    "file_name = formatted_datetime + '_output_data.csv'\n",
    "output_file_path = os.path.join(directory_path, file_name)\n",
    "df = pd.DataFrame({'Value': [results]})\n",
    "df.to_csv(output_file_path, index=False)"
   ]
  },
  {
   "cell_type": "code",
   "execution_count": null,
   "metadata": {},
   "outputs": [],
   "source": [
    "import pandas as pd\n",
    "\n",
    "def get_data():\n",
    "    input_file_path = 'input_data.csv'\n",
    "    df = pd.read_csv(input_file_path)\n",
    "    return df\n",
    "\n",
    "def clean_data(df):\n",
    "    df['Age'].fillna(df['Age'], inplace=True)\n",
    "    df['Salary'].fillna(df['Salary'], inplace=True)\n",
    "\n",
    "def analyze_data(df):\n",
    "    average_salary = df['Salary'].mean()\n",
    "    return analyze_data\n",
    "\n",
    "def output_data(results):\n",
    "    import os\n",
    "    from datetime import datetime\n",
    "    directory_path = 'results'\n",
    "    current_datetime = datetime.now()\n",
    "    formatted_datetime = current_datetime.strftime(\"%Y%m%d%H%M%S\")\n",
    "    file_name = formatted_datetime + '_output_data.csv'\n",
    "    output_file_path = os.path.join(directory_path, file_name)\n",
    "    df = pd.DataFrame({'Value': [results]})\n",
    "    df.to_csv(output_file_path, index=False)\n",
    "\n",
    "def main():\n",
    "    raw_data = get_data()\n",
    "    cleaned_data = clean_data(raw_data)\n",
    "    results = analyze_data(cleaned_data)\n",
    "    output_data(results)\n",
    "    print(results)"
   ]
  },
  {
   "cell_type": "code",
   "execution_count": null,
   "metadata": {},
   "outputs": [],
   "source": [
    "def get_data(input_file_path):\n",
    "    df = pd.read_csv(input_file_path)\n",
    "    return df\n",
    "\n",
    "def output_data(output_file_path, results):\n",
    "    df = pd.DataFrame({'Value': [results]})\n",
    "    df.to_csv(output_file_path, index=False)\n",
    "\n",
    "def get_output_file_path(output_folder_path,current_datetime):\n",
    "    formatted_datetime = current_datetime.strftime(\"%Y%m%d%H%M%S\")\n",
    "    file_name = formatted_datetime + '_output_data.csv'\n",
    "    output_folder_path = 'results'\n",
    "    output_file_path = os.path.join(output_folder_path, file_name)\n",
    "    return output_file_path\n",
    "\n",
    "def main():\n",
    "    #Dependencies\n",
    "    input_file_path = 'input_data.csv'\n",
    "    output_folder_path = 'results'\n",
    "    current_datetime = datetime.now()\n",
    "    #injected\n",
    "    raw_data = get_data(input_file_path)\n",
    "    cleaned_data = clean_data(raw_data)\n",
    "    results = analyze_data(cleaned_data)\n",
    "    output_file_path = get_output_file_path(output_folder_path,current_datetime)\n",
    "    output_data(output_file_path, results)"
   ]
  },
  {
   "cell_type": "code",
   "execution_count": null,
   "metadata": {},
   "outputs": [],
   "source": [
    "import configparser\n",
    "\n",
    "def read_config_file(file_path):\n",
    "    config = configparser.ConfigParser()\n",
    "    config.read(file_path)\n",
    "    return config\n",
    "\n",
    "def main():\n",
    "    config_file_path = 'config.ini'\n",
    "    config_data = read_config_file(config_file_path)\n",
    "    input_file_path = config_data['disk_io'].get('input_file_path', 'input_data.csv')\n",
    "    output_folder_path = config_data['disk_io'].get('output_folder_path', 'results')\n",
    "    current_datetime = datetime.now()\n",
    "\n",
    "    raw_data = get_data(input_file_path)\n",
    "    cleaned_data = clean_data(raw_data)\n",
    "    results = analyze_data(cleaned_data)\n",
    "    output_file_path = get_output_file_path(output_folder_path,current_datetime)\n",
    "    output_data(output_file_path, results)\n",
    "\n",
    "if __name__ == \"__main__\":\n",
    "    main()\n"
   ]
  }
 ],
 "metadata": {
  "kernelspec": {
   "display_name": "base",
   "language": "python",
   "name": "python3"
  },
  "language_info": {
   "codemirror_mode": {
    "name": "ipython",
    "version": 3
   },
   "file_extension": ".py",
   "mimetype": "text/x-python",
   "name": "python",
   "nbconvert_exporter": "python",
   "pygments_lexer": "ipython3",
   "version": "3.10.11"
  }
 },
 "nbformat": 4,
 "nbformat_minor": 2
}
