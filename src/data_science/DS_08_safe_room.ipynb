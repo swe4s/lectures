{
 "cells": [
  {
   "cell_type": "markdown",
   "metadata": {},
   "source": [
    "Safe Room\n",
    "When should you use defensive programming?\n",
    "Should you use structed exception handling for data cleaning?"
   ]
  },
  {
   "cell_type": "markdown",
   "metadata": {},
   "source": [
    "Name, Dob, Salary\n",
    "Alice, '06/29/1999', 50000\n",
    "Bob, '10/15/200', 60000\n",
    "Charlie, '04/04/2002', 45000\n",
    "Dave, , 55000"
   ]
  },
  {
   "cell_type": "markdown",
   "metadata": {},
   "source": [
    "How much is code for code sake?"
   ]
  },
  {
   "cell_type": "code",
   "execution_count": 7,
   "metadata": {},
   "outputs": [
    {
     "data": {
      "text/plain": [
       "24"
      ]
     },
     "execution_count": 7,
     "metadata": {},
     "output_type": "execute_result"
    }
   ],
   "source": [
    "from datetime import datetime\n",
    "\n",
    "def calculate_age(dob, today):\n",
    "    if not isinstance(dob, str) or not dob:\n",
    "        raise ValueError(\"dob must be a non-empty string\")\n",
    "    try:\n",
    "        birthdate = datetime.strptime(dob, \"%m/%d/%Y\")\n",
    "    except ValueError:\n",
    "        raise ValueError(\"Invalid date format. Please use MM/DD/YYYY.\")\n",
    "    age = today.year - birthdate.year - ((today.month, today.day) < (birthdate.month, birthdate.day))\n",
    "    return age\n",
    "\n",
    "calculate_age('06/29/1999',datetime.today())"
   ]
  },
  {
   "cell_type": "code",
   "execution_count": null,
   "metadata": {},
   "outputs": [],
   "source": [
    "from datetime import datetime\n",
    "\n",
    "def is_valid_date(date_str):\n",
    "    try:\n",
    "        datetime.strptime(date_str, \"%m/%d/%Y\")\n",
    "        return True\n",
    "    except ValueError:\n",
    "        return False\n",
    "\n",
    "def get_clean_data(raw_data):\n",
    "    filtered_df = raw_data.dropna(subset=['Dob'])\n",
    "    dob_valid_mask = filtered_df['Dob'].apply(lambda x: is_valid_date(x))\n",
    "    clean_data = filtered_df[dob_valid_mask]\n",
    "    return clean_data\n",
    "\n",
    "def calculate_age(birthdate, today):\n",
    "    age = today.year - birthdate.year - ((today.month, today.day) < (birthdate.month, birthdate.day))\n",
    "    return age\n"
   ]
  },
  {
   "cell_type": "markdown",
   "metadata": {},
   "source": [
    "Try using Object Oriented?"
   ]
  },
  {
   "cell_type": "code",
   "execution_count": 4,
   "metadata": {},
   "outputs": [
    {
     "name": "stdout",
     "output_type": "stream",
     "text": [
      "Name: Jane Doe, Age: 24\n"
     ]
    }
   ],
   "source": [
    "from datetime import datetime\n",
    "\n",
    "class MyClass:\n",
    "    def __init__(self, name, birthdate):\n",
    "        self._validate_name(name)\n",
    "        self._validate_birthdate(birthdate)\n",
    "        self._name = name\n",
    "        self._birthdate = datetime.strptime(birthdate, \"%m/%d/%Y\")\n",
    "\n",
    "    def _validate_name(self, name):\n",
    "        if not isinstance(name, str) or not name:\n",
    "            raise ValueError(\"Name must be a non-empty string\")\n",
    "\n",
    "    def _validate_birthdate(self, birthdate):\n",
    "        try:\n",
    "            birthdate = datetime.strptime(birthdate, \"%m/%d/%Y\")\n",
    "        except ValueError:\n",
    "            raise ValueError(\"Invalid date format. Please use MM/DD/YYYY.\")\n",
    "\n",
    "    def get_name(self):\n",
    "        return self._name\n",
    "\n",
    "    def get_age(self, today):\n",
    "        age = today.year - self._birthdate.year - ((today.month, today.day) < (self._birthdate.month, self._birthdate.day))\n",
    "        return age\n",
    "\n",
    "\n",
    "try:\n",
    "    obj = MyClass(\"Jane Doe\", '06/29/1999')\n",
    "    today = datetime.today()\n",
    "    print(f\"Name: {obj.get_name()}, Age: {obj.get_age(today)}\")\n",
    "except ValueError as e:\n",
    "    print(f\"Error: {e}\")\n"
   ]
  },
  {
   "cell_type": "markdown",
   "metadata": {},
   "source": [
    "Imperative way"
   ]
  },
  {
   "cell_type": "code",
   "execution_count": null,
   "metadata": {},
   "outputs": [],
   "source": [
    "import pandas as pd\n",
    "\n",
    "def main():\n",
    "    input_file_path = 'input_data.csv'\n",
    "    output_file_path = 'output_data.csv'\n",
    "    data = get_data(input_file_path)\n",
    "    cleaned_data = clean_data(data)\n",
    "    results = analyze_data(cleaned_data)\n",
    "    write_data(results, output_file_path)\n"
   ]
  },
  {
   "cell_type": "markdown",
   "metadata": {},
   "source": [
    "get_data - file does not exist\n",
    "clean_data - data is uncleanable\n",
    "analyze_data - data is unanalyzable\n",
    "write_data - folder does not exist\n",
    "\n",
    "where should we validate arguments?\n",
    "Everywhere? Nowhere?\n",
    "\n",
    "Does anayze_data care where there data comes from?\n",
    "Does analyze_data care if there is a missing field?"
   ]
  },
  {
   "cell_type": "code",
   "execution_count": null,
   "metadata": {},
   "outputs": [],
   "source": [
    "import pandas as pd\n",
    "\n",
    "def get_data(file_path):\n",
    "    if file_path is None or file_path == \"\":\n",
    "        raise ValueError(\"File path cannot be None or empty.\")\n",
    "    if not os.path.exists(file_path):\n",
    "        raise ValueError(f\"The file '{file_path}' does not exist.\")\n",
    "    df = pd.read_csv(input_file)\n",
    "    return df\n",
    "\n",
    "#etc..."
   ]
  },
  {
   "cell_type": "code",
   "execution_count": null,
   "metadata": {},
   "outputs": [],
   "source": [
    "def main():\n",
    "    try:\n",
    "        data = get_data(input_file_path)\n",
    "        cleaned_data = clean_data(data)\n",
    "        results = analyze_data(cleaned_data)\n",
    "        write_data(results, output_file_path)\n",
    "    with:\n",
    "        etc..."
   ]
  },
  {
   "cell_type": "code",
   "execution_count": null,
   "metadata": {},
   "outputs": [],
   "source": [
    "def main():\n",
    "    #validate\n",
    "    input_file_path = 'input_data.csv'\n",
    "    output_file_path = 'output_data.csv'\n",
    "    data = get_data(input_file_path)\n",
    "\n",
    "    #No validate\n",
    "    cleaned_data = clean_data(data)\n",
    "    results = analyze_data(cleaned_data)\n",
    "    write_data(results, output_file_path)\n"
   ]
  }
 ],
 "metadata": {
  "kernelspec": {
   "display_name": "base",
   "language": "python",
   "name": "python3"
  },
  "language_info": {
   "codemirror_mode": {
    "name": "ipython",
    "version": 3
   },
   "file_extension": ".py",
   "mimetype": "text/x-python",
   "name": "python",
   "nbconvert_exporter": "python",
   "pygments_lexer": "ipython3",
   "version": "3.10.11"
  }
 },
 "nbformat": 4,
 "nbformat_minor": 2
}
