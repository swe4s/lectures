{
 "cells": [
  {
   "cell_type": "markdown",
   "metadata": {},
   "source": [
    "Name, Age, Salary\n",
    "Alice, 28, 50000\n",
    "Bob, 35, 60000\n",
    "Charlie, 22, 45000\n",
    "Dave, , 55000"
   ]
  },
  {
   "cell_type": "code",
   "execution_count": null,
   "metadata": {
    "vscode": {
     "languageId": "plaintext"
    }
   },
   "outputs": [],
   "source": [
    "import pandas as pd\n",
    "\n",
    "def get_data(input_file_path):\n",
    "    df = pd.read_csv(input_file_path)\n",
    "    return df\n",
    "\n",
    "def clean_data(df):\n",
    "    df['Age'].fillna(df['Age'].median(), inplace=True)\n",
    "    df['Salary'].fillna(df['Salary'].mean(), inplace=True)\n",
    "\n",
    "def analyze_data(df):\n",
    "    average_salary = df['Salary'].mean()\n",
    "    return average_salary\n",
    "\n",
    "def write_data(results, output_file_path):\n",
    "    df = pd.DataFrame({'Value': [results]})\n",
    "    df.to_csv(output_file_path, index=False)\n",
    "\n",
    "def main():\n",
    "    # Read data from CSV\n",
    "    input_file_path = 'input_data.csv'\n",
    "    df = get_data(input_file_path)\n",
    "\n",
    "    # Clean data\n",
    "    clean_data(df)\n",
    "\n",
    "    # Analyze data\n",
    "    results = analyze_data(df)\n",
    "\n",
    "    # Write results\n",
    "    output_file_path = 'output_data.csv'\n",
    "    write_data(results, output_file_path)\n",
    "\n",
    "    print(\"Results written to\", output_file)"
   ]
  },
  {
   "cell_type": "code",
   "execution_count": null,
   "metadata": {
    "vscode": {
     "languageId": "plaintext"
    }
   },
   "outputs": [],
   "source": [
    "def is_data_valid(df):\n",
    "    if df['Age'].isnull().any():\n",
    "        return False\n",
    "    else:\n",
    "        return True"
   ]
  },
  {
   "cell_type": "code",
   "execution_count": null,
   "metadata": {
    "vscode": {
     "languageId": "plaintext"
    }
   },
   "outputs": [],
   "source": [
    "def get_data(input_file_path):\n",
    "    if not isinstance(input_file_path, str) or not input_file_path:\n",
    "        raise ValueError(\"Input file path must be a non-empty string\")\n",
    "    try:\n",
    "        df = pd.read_csv(input_file_path)\n",
    "        return df\n",
    "    except FileNotFoundError:\n",
    "        print(f\"Error: File not found - {input_file_path}\")\n",
    "        raise\n",
    "    except pd.errors.EmptyDataError:\n",
    "        print(f\"Error: Empty file - {input_file_path}\")\n",
    "        raise\n",
    "    except pd.errors.ParserError as pe:\n",
    "        print(f\"Error: Parsing error - {pe}\")\n",
    "        raise\n",
    "    except Exception as e:\n",
    "        print(f\"An unexpected error occurred: {e}\")\n",
    "        raise"
   ]
  },
  {
   "cell_type": "code",
   "execution_count": null,
   "metadata": {
    "vscode": {
     "languageId": "plaintext"
    }
   },
   "outputs": [],
   "source": [
    "def main():\n",
    "    try:\n",
    "        input_file_path = 'input_data.csv'\n",
    "        output_file_path = 'output_data.csv'\n",
    "        df = get_data(input_file_path)\n",
    "        data_valid = is_data_valid(df)\n",
    "        if data_valid:\n",
    "            clean_data(df)\n",
    "            analyze_data(df)\n",
    "            write_data(results, output_file_path)\n",
    "            print(\"Results written to\", output_file)\n",
    "        else:\n",
    "            print(\"data was not valid\")\n",
    "    except Exception as e:\n",
    "        print(\"something went wrong\")"
   ]
  },
  {
   "cell_type": "code",
   "execution_count": null,
   "metadata": {
    "vscode": {
     "languageId": "plaintext"
    }
   },
   "outputs": [],
   "source": [
    "\n",
    "def main():\n",
    "    try:\n",
    "        input_file_path = 'input_data.csv'\n",
    "        output_file_path = 'output_data.csv'\n",
    "        df = get_data(input_file_path)\n",
    "        data_valid = is_data_valid(df)\n",
    "        if data_valid:\n",
    "            clean_data(df)\n",
    "            results_useful = analyze_data(df)\n",
    "            if results_useful:\n",
    "                analyze_data_some_more(df)\n",
    "                write_data(df)\n",
    "                print(\"Results written to\", output_file_path)\n",
    "        else:\n",
    "            print(\"data was not valid\")\n",
    "    except Exception as e:\n",
    "        print(\"something went wrong\")"
   ]
  },
  {
   "cell_type": "markdown",
   "metadata": {},
   "source": [
    "#Two Track Architecture\n",
    "#Show slide"
   ]
  },
  {
   "cell_type": "code",
   "execution_count": null,
   "metadata": {
    "vscode": {
     "languageId": "plaintext"
    }
   },
   "outputs": [],
   "source": [
    "from collections import namedtuple\n",
    "Result = namedtuple('Result', ['continue', 'data_frame'])\n",
    "\n",
    "def clean_data(result):\n",
    "    if result.continue:\n",
    "        if result.data_frame['Age'].isnull().any():\n",
    "            error_message_df = pd.DataFrame({'Value': \"Age is Null\"})\n",
    "            return Result(continue=False, data_frame=error_message_df)\n",
    "        else:\n",
    "            cleaned_df = deepcopy(result.data_frame)\n",
    "            cleaned_df['Salary'].fillna(cleaned_df['Salary'].mean(), inplace=True)\n",
    "            return Result(continue=True, data_frame=cleaned_df) \n",
    "    else:\n",
    "        return result"
   ]
  },
  {
   "cell_type": "code",
   "execution_count": null,
   "metadata": {
    "vscode": {
     "languageId": "plaintext"
    }
   },
   "outputs": [],
   "source": [
    "def get_data(result):\n",
    "    if result.continue:\n",
    "        try:\n",
    "            df = pd.read_csv(input_file_path)\n",
    "            result = (continue=True, data_frame=df)\n",
    "            return result\n",
    "        except Exception as e:\n",
    "            error_message_df = pd.DataFrame({'Value': \"couldn't get data\"})\n",
    "            return Result(continue=False, data_frame=error_message_df)\n",
    "    else:\n",
    "        return result"
   ]
  },
  {
   "cell_type": "code",
   "execution_count": null,
   "metadata": {
    "vscode": {
     "languageId": "plaintext"
    }
   },
   "outputs": [],
   "source": [
    "def main():\n",
    "    initial_df = pd.DataFrame({'Value': \"starting\"})\n",
    "    result = Result(continue=True, data_frame=initial_df)\n",
    "\n",
    "    input_file = 'input_data.csv'\n",
    "    output_file_path = 'output_data.csv'\n",
    "\n",
    "    get_data(result,input_file_path)\n",
    "    clean_data(result)\n",
    "    analyze_data(result)\n",
    "    write_data(result,output_file_path)\n",
    "    print(result)"
   ]
  },
  {
   "cell_type": "code",
   "execution_count": null,
   "metadata": {
    "vscode": {
     "languageId": "plaintext"
    }
   },
   "outputs": [],
   "source": [
    "input_file_path = 'input_data.csv'\n",
    "output_file_path = 'output_data.csv'\n",
    "initial_df = pd.DataFrame({'Value': \"starting\"})\n",
    "result_00 = Result(continue=True, data_frame=initial_df)\n",
    "\n",
    "result_01 = get_data(result_00,input_file_path)\n",
    "result_02 = clean_data(result_01)\n",
    "result_03 = analyze_data(result_02)\n",
    "result_04 = write_data(result_03,output_file_path)\n",
    "print(result04)"
   ]
  }
 ],
 "metadata": {
  "language_info": {
   "name": "python"
  }
 },
 "nbformat": 4,
 "nbformat_minor": 2
}
