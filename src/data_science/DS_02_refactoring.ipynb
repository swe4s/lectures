{
 "cells": [
  {
   "cell_type": "markdown",
   "metadata": {},
   "source": [
    "Rename"
   ]
  },
  {
   "cell_type": "code",
   "execution_count": null,
   "metadata": {},
   "outputs": [],
   "source": [
    "def my_cool_function():\n",
    "    print(\"Cool\")\n",
    "\n",
    "my_cool_function()\n"
   ]
  },
  {
   "cell_type": "markdown",
   "metadata": {},
   "source": [
    "Extract Functions"
   ]
  },
  {
   "cell_type": "code",
   "execution_count": 3,
   "metadata": {},
   "outputs": [
    {
     "name": "stdout",
     "output_type": "stream",
     "text": [
      "x is greater than 5\n",
      "y is greater than 2\n",
      "z is greater than 1\n"
     ]
    }
   ],
   "source": [
    "x = 10\n",
    "y = 5\n",
    "z = 3\n",
    "\n",
    "def do_something(y, z):\n",
    "    print(\"x is greater than 5\")\n",
    "    if y > 2:\n",
    "        print(\"y is greater than 2\")\n",
    "        if z > 1:\n",
    "            print(\"z is greater than 1\")\n",
    "        else:\n",
    "            print(\"z is not greater than 1\")\n",
    "    else:\n",
    "        print(\"y is not greater than 2\")\n",
    "\n",
    "if x > 5:\n",
    "    do_something(y, z)\n",
    "else:\n",
    "    print(\"x is not greater than 5\")\n"
   ]
  },
  {
   "cell_type": "code",
   "execution_count": 2,
   "metadata": {},
   "outputs": [
    {
     "name": "stdout",
     "output_type": "stream",
     "text": [
      "run away!\n",
      "run away!\n",
      "run away!\n",
      "What kind of swallow?\n"
     ]
    }
   ],
   "source": [
    "knights = [(\"Lancelot\", \"Blue\"), (\"Robin\", \"Green\"), (\"Galahad\", \"Blue\"), (\"Arthur\", \"Purple\"), ]\n",
    "\n",
    "def do_knight_analysis(knight):\n",
    "    (name,color) = knight\n",
    "    if name == 'Arthur':\n",
    "        print('What kind of swallow?')\n",
    "    else:\n",
    "        print (\"run away!\")\n",
    "\n",
    "for knight in knights:\n",
    "    do_knight_analysis(knight)"
   ]
  }
 ],
 "metadata": {
  "kernelspec": {
   "display_name": "base",
   "language": "python",
   "name": "python3"
  },
  "language_info": {
   "codemirror_mode": {
    "name": "ipython",
    "version": 3
   },
   "file_extension": ".py",
   "mimetype": "text/x-python",
   "name": "python",
   "nbconvert_exporter": "python",
   "pygments_lexer": "ipython3",
   "version": "3.10.11"
  }
 },
 "nbformat": 4,
 "nbformat_minor": 2
}
