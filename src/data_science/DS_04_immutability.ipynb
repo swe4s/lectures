{
 "cells": [
  {
   "cell_type": "markdown",
   "metadata": {},
   "source": [
    "Imutability is the concept that data cannot be altered once assigned.\n",
    "Ironically, it makes all varaibles, unvariable.\n",
    "This is a HUGE help when debugging."
   ]
  },
  {
   "cell_type": "code",
   "execution_count": 1,
   "metadata": {},
   "outputs": [
    {
     "name": "stdout",
     "output_type": "stream",
     "text": [
      "my tuple: (1, 2, 3)\n",
      "my tuple: (1, 2, 3, 4, 5, 6)\n"
     ]
    }
   ],
   "source": [
    "#this is bad\n",
    "my_tuple = (1, 2, 3)\n",
    "print(\"my tuple:\", my_tuple)\n",
    "my_tuple = my_tuple + (4, 5, 6)\n",
    "print(\"my tuple:\", my_tuple)"
   ]
  },
  {
   "cell_type": "code",
   "execution_count": 2,
   "metadata": {},
   "outputs": [
    {
     "name": "stdout",
     "output_type": "stream",
     "text": [
      "Original tuple: (1, 2, 3)\n",
      "New tuple: (1, 2, 3, 4, 5, 6)\n"
     ]
    }
   ],
   "source": [
    "#this is better\n",
    "old_tuple = (1, 2, 3)\n",
    "new_tuple = old_tuple + (4, 5, 6)\n",
    "print(\"Original tuple:\", old_tuple)\n",
    "print(\"New tuple:\", new_tuple)"
   ]
  },
  {
   "cell_type": "markdown",
   "metadata": {},
   "source": [
    "Sometimes, data is altered \"in place\"\n",
    "For most systems, that is OK.  Is It?"
   ]
  },
  {
   "cell_type": "code",
   "execution_count": null,
   "metadata": {},
   "outputs": [],
   "source": [
    "knights = [(\"Lancelot\", \"Blue\"), (\"Robin\", \"Green\"), (\"Galahad\", \"Blue\"), (\"Arthur\", \"Purple\"), ]\n",
    "print(knights)"
   ]
  },
  {
   "cell_type": "code",
   "execution_count": 3,
   "metadata": {},
   "outputs": [
    {
     "name": "stdout",
     "output_type": "stream",
     "text": [
      "[('Lancelot', 'Blue'), ('Robin', 'Green'), ('Galahad', 'Yel...'), ('Arthur', 'Purple')]\n"
     ]
    }
   ],
   "source": [
    "knights[2] = (\"Galahad\", \"Yel...\")\n",
    "print(knights)"
   ]
  },
  {
   "cell_type": "markdown",
   "metadata": {},
   "source": [
    "But use naming to differnetiate when updating in place"
   ]
  },
  {
   "cell_type": "code",
   "execution_count": 1,
   "metadata": {},
   "outputs": [
    {
     "name": "stdout",
     "output_type": "stream",
     "text": [
      "[('Lancelot', 'Blue'), ('Robin', 'Red'), ('Galahad', 'Yel...'), ('Arthur', 'Purple')]\n"
     ]
    }
   ],
   "source": [
    "import copy\n",
    "knights = [(\"Lancelot\", \"Blue\"), (\"Robin\", \"Green\"), (\"Galahad\", \"Blue\"), (\"Arthur\", \"Purple\"), ]\n",
    "updated_knights = copy.deepcopy(knights)\n",
    "updated_knights[0] = (\"Lancelot\", \"Blue\")\n",
    "updated_knights[1] = (\"Robin\", \"Red\")\n",
    "updated_knights[2] = (\"Galahad\", \"Yel...\")\n",
    "updated_knights[3] = (\"Arthur\", \"Purple\")\n",
    "print(updated_knights)"
   ]
  },
  {
   "cell_type": "markdown",
   "metadata": {},
   "source": [
    "Always better to have two dataset if you filter data\n",
    "so your results folder will have 2 .csvs that, when added together, equal your original .csv\n",
    "included.csv, excluded.csv, results.json"
   ]
  },
  {
   "cell_type": "code",
   "execution_count": 4,
   "metadata": {},
   "outputs": [
    {
     "name": "stdout",
     "output_type": "stream",
     "text": [
      "[2, 4, 6, 8, 10]\n"
     ]
    }
   ],
   "source": [
    "numbers = [1, 2, 3, 4, 5, 6, 7, 8, 9, 10]\n",
    "numbers = [num for num in numbers if num % 2 == 0]\n",
    "print(numbers)"
   ]
  },
  {
   "cell_type": "code",
   "execution_count": null,
   "metadata": {},
   "outputs": [],
   "source": [
    "numbers = [1, 2, 3, 4, 5, 6, 7, 8, 9, 10]\n",
    "even_numbers = [num for num in numbers if num % 2 == 0]\n",
    "odd_numbers = [num for num in numbers if num % 2 != 0]"
   ]
  }
 ],
 "metadata": {
  "kernelspec": {
   "display_name": "base",
   "language": "python",
   "name": "python3"
  },
  "language_info": {
   "codemirror_mode": {
    "name": "ipython",
    "version": 3
   },
   "file_extension": ".py",
   "mimetype": "text/x-python",
   "name": "python",
   "nbconvert_exporter": "python",
   "pygments_lexer": "ipython3",
   "version": "3.10.11"
  }
 },
 "nbformat": 4,
 "nbformat_minor": 2
}
