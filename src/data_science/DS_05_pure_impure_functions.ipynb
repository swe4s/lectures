{
 "cells": [
  {
   "cell_type": "markdown",
   "metadata": {},
   "source": [
    "Impure functions are functions that depend on and/or alter \"things\" outside the function's parameters/return value.\n",
    "Examples include global variables, disk I/O, web service calls"
   ]
  },
  {
   "cell_type": "code",
   "execution_count": 1,
   "metadata": {},
   "outputs": [
    {
     "name": "stdout",
     "output_type": "stream",
     "text": [
      "Initial Counter: 0\n",
      "Result after first call: 1\n",
      "Result after second call: 2\n"
     ]
    }
   ],
   "source": [
    "global_counter = 0\n",
    "\n",
    "def impure_increment():\n",
    "    global global_counter\n",
    "    global_counter += 1\n",
    "\n",
    "print(\"Initial Counter:\", global_counter)\n",
    "impure_increment()\n",
    "print(\"Result after first call:\", global_counter)\n",
    "impure_increment()\n",
    "print(\"Result after second call:\", global_counter)"
   ]
  },
  {
   "cell_type": "code",
   "execution_count": 2,
   "metadata": {},
   "outputs": [
    {
     "name": "stdout",
     "output_type": "stream",
     "text": [
      "Initial Counter: 0\n",
      "Result after first call: 1\n",
      "Result after second call: 2\n"
     ]
    }
   ],
   "source": [
    "def pure_increment(counter):\n",
    "    counter += 1\n",
    "    return counter\n",
    "\n",
    "initial_counter = 0\n",
    "result1 = pure_increment(initial_counter)\n",
    "result2 = pure_increment(result1)\n",
    "\n",
    "print(\"Initial Counter:\", initial_counter)\n",
    "print(\"Result after first call:\", result1)\n",
    "print(\"Result after second call:\", result2)\n"
   ]
  },
  {
   "cell_type": "markdown",
   "metadata": {},
   "source": [
    "There are sneaky \"things\" that you may not realize make a function impure.\n",
    "For example, datetime.now"
   ]
  },
  {
   "cell_type": "code",
   "execution_count": 3,
   "metadata": {},
   "outputs": [
    {
     "name": "stdout",
     "output_type": "stream",
     "text": [
      "New Date after adding 5 days: 2023-12-03 07:55:54.658214\n"
     ]
    }
   ],
   "source": [
    "from datetime import datetime, timedelta\n",
    "\n",
    "def add_days_to_date(days_to_add):\n",
    "    current_datetime = datetime.now()\n",
    "    new_date = current_datetime + timedelta(days=days_to_add)\n",
    "    return new_date\n",
    "\n",
    "days_to_add = 5\n",
    "new_date = add_days_to_date(days_to_add)\n",
    "print(f\"New Date after adding {days_to_add} days:\", new_date)"
   ]
  },
  {
   "cell_type": "code",
   "execution_count": 4,
   "metadata": {},
   "outputs": [
    {
     "name": "stdout",
     "output_type": "stream",
     "text": [
      "Original Date: 2023-01-01 00:00:00\n",
      "New Date after adding 5 days: 2023-01-06 00:00:00\n"
     ]
    }
   ],
   "source": [
    "from datetime import datetime, timedelta\n",
    "\n",
    "def add_days_to_date(input_date, days_to_add):\n",
    "    new_date = input_date + timedelta(days=days_to_add)\n",
    "    return new_date\n",
    "\n",
    "current_date = datetime(2023, 1, 1)\n",
    "days_to_add = 5\n",
    "new_date = add_days_to_date(current_date, days_to_add)\n",
    "print(\"Original Date:\", current_date)\n",
    "print(f\"New Date after adding {days_to_add} days:\", new_date)"
   ]
  },
  {
   "cell_type": "markdown",
   "metadata": {},
   "source": [
    "Also when you split an impure function into two parts (pure and impure),\n",
    "the covering function is still impure"
   ]
  },
  {
   "cell_type": "code",
   "execution_count": 5,
   "metadata": {},
   "outputs": [],
   "source": [
    "import pandas as pd\n",
    "\n",
    "def get_working_data(file_path):\n",
    "    raw_data = pd.read_csv(file_path)\n",
    "    cleaned_data = raw_data.dropna()\n",
    "    return cleaned_data\n",
    "\n",
    "file_path = 'shots_2022.csv'\n",
    "data = get_working_data(file_path)"
   ]
  },
  {
   "cell_type": "code",
   "execution_count": 15,
   "metadata": {},
   "outputs": [],
   "source": [
    "import pandas as pd\n",
    "\n",
    "def get_data_from_disk(file_path):\n",
    "    raw_data = pd.read_csv(file_path)\n",
    "    return raw_data\n",
    "\n",
    "def clean_data(raw_data):\n",
    "    copied_data = raw_data.copy()\n",
    "    cleaned_data = copied_data.dropna()\n",
    "    return cleaned_data\n",
    "\n",
    "def get_working_data(file_path):\n",
    "    raw_data = get_data_from_disk(file_path)\n",
    "    cleaned_data = clean_data(raw_data)\n",
    "    return cleaned_data\n",
    "\n",
    "file_path = 'shots_2022.csv'\n",
    "data = get_working_data(file_path)"
   ]
  },
  {
   "cell_type": "markdown",
   "metadata": {},
   "source": [
    "as a rule, unit test pure functions.  integration tests on impure functions."
   ]
  }
 ],
 "metadata": {
  "kernelspec": {
   "display_name": "base",
   "language": "python",
   "name": "python3"
  },
  "language_info": {
   "codemirror_mode": {
    "name": "ipython",
    "version": 3
   },
   "file_extension": ".py",
   "mimetype": "text/x-python",
   "name": "python",
   "nbconvert_exporter": "python",
   "pygments_lexer": "ipython3",
   "version": "3.10.11"
  }
 },
 "nbformat": 4,
 "nbformat_minor": 2
}
