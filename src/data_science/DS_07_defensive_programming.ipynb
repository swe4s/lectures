{
 "cells": [
  {
   "cell_type": "markdown",
   "metadata": {},
   "source": [
    "Argument validation is the concept of verifying the input before working on it.\n",
    "Using a try... catch is called structured exception handling\n",
    "Combined, this is sometimes called \"defensive programming\""
   ]
  },
  {
   "cell_type": "code",
   "execution_count": 2,
   "metadata": {},
   "outputs": [],
   "source": [
    "def add_numbers(a, b):\n",
    "    if not isinstance(a, int):\n",
    "        raise ValueError(\"Argument 'a' must be an integer\")\n",
    "    if not isinstance(b, int):\n",
    "        raise ValueError(\"Argument 'b' must be an integer\")\n",
    "    result = a + b\n",
    "    return result"
   ]
  },
  {
   "cell_type": "code",
   "execution_count": 3,
   "metadata": {},
   "outputs": [
    {
     "name": "stdout",
     "output_type": "stream",
     "text": [
      "Result: 8\n"
     ]
    }
   ],
   "source": [
    "try:\n",
    "    result = add_numbers(3, 5)\n",
    "    # result = add_numbers(3, \"5\")\n",
    "    print(\"Result:\", result)\n",
    "except ValueError as e:\n",
    "    print(f\"Error: {e}\")"
   ]
  }
 ],
 "metadata": {
  "kernelspec": {
   "display_name": "base",
   "language": "python",
   "name": "python3"
  },
  "language_info": {
   "codemirror_mode": {
    "name": "ipython",
    "version": 3
   },
   "file_extension": ".py",
   "mimetype": "text/x-python",
   "name": "python",
   "nbconvert_exporter": "python",
   "pygments_lexer": "ipython3",
   "version": "3.10.11"
  }
 },
 "nbformat": 4,
 "nbformat_minor": 2
}
