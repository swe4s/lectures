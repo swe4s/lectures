{
 "cells": [
  {
   "cell_type": "markdown",
   "metadata": {},
   "source": [
    "Three types of programming languages...\n",
    "Everything in computer code is either DATA or FUNCTIONS"
   ]
  },
  {
   "cell_type": "code",
   "execution_count": 5,
   "metadata": {},
   "outputs": [
    {
     "name": "stdout",
     "output_type": "stream",
     "text": [
      "Hello, John! You are 25 years old.\n"
     ]
    }
   ],
   "source": [
    "# Data\n",
    "name = \"John\"\n",
    "age = 25\n",
    "\n",
    "# Function\n",
    "def greet_person(name, age):\n",
    "    greeting = f\"Hello, {name}! You are {age} years old.\"\n",
    "    return greeting\n",
    "\n",
    "greeting = greet_person(name, age)\n",
    "print(greeting)"
   ]
  },
  {
   "cell_type": "markdown",
   "metadata": {},
   "source": [
    "Data\n",
    "Raw facts, observations, measurements that are collected and stored\n",
    "Programming languages (even javascript) use a Type system to deferinate kinds of data: string, ints, floats, list"
   ]
  },
  {
   "cell_type": "code",
   "execution_count": 1,
   "metadata": {},
   "outputs": [
    {
     "name": "stdout",
     "output_type": "stream",
     "text": [
      "<class 'str'>\n",
      "<class 'int'>\n"
     ]
    }
   ],
   "source": [
    "#Simple Types\n",
    "name = \"John\"\n",
    "print(type(name))\n",
    "age = 25\n",
    "print(type(age))"
   ]
  },
  {
   "cell_type": "code",
   "execution_count": 3,
   "metadata": {},
   "outputs": [
    {
     "name": "stdout",
     "output_type": "stream",
     "text": [
      "<class '__main__.Person'>\n",
      "<class 'str'>\n"
     ]
    }
   ],
   "source": [
    "#Complex Types - AND types\n",
    "from collections import namedtuple\n",
    "Person = namedtuple('Person', ['name', 'age'])\n",
    "person1 = Person(name='John', age=25)\n",
    "print(type(person1))\n",
    "print(type(person1.name))\n"
   ]
  },
  {
   "cell_type": "code",
   "execution_count": 4,
   "metadata": {},
   "outputs": [
    {
     "name": "stdout",
     "output_type": "stream",
     "text": [
      "Day: WEDNESDAY\n"
     ]
    }
   ],
   "source": [
    "#Complex Types - OR Types\n",
    "from enum import Enum\n",
    "class Weekday(Enum):\n",
    "    MONDAY = 1\n",
    "    TUESDAY = 2\n",
    "    WEDNESDAY = 3\n",
    "    THURSDAY = 4\n",
    "    FRIDAY = 5\n",
    "    SATURDAY = 6\n",
    "    SUNDAY = 7\n",
    "day = Weekday.WEDNESDAY\n",
    "print(f\"Day: {day.name}\") "
   ]
  },
  {
   "cell_type": "markdown",
   "metadata": {},
   "source": [
    "Collections\n",
    "Generalized Pattern is\n",
    "single item is singular\n",
    "multiple items are plural (with a s)\n",
    "do not be grammically correct (for deer in deers)"
   ]
  },
  {
   "cell_type": "code",
   "execution_count": 4,
   "metadata": {},
   "outputs": [
    {
     "name": "stdout",
     "output_type": "stream",
     "text": [
      "Person(name='John', age=25)\n",
      "Person(name='Bill', age=35)\n"
     ]
    }
   ],
   "source": [
    "from collections import namedtuple\n",
    "Person = namedtuple('Person', ['name', 'age'])\n",
    "person1 = Person(name='John', age=25)\n",
    "person2 = Person(name='Bill', age=35)\n",
    "\n",
    "persons = []\n",
    "persons.append(person1)\n",
    "persons.append(person2)\n",
    "\n",
    "for person in persons:\n",
    "    print(person)"
   ]
  },
  {
   "cell_type": "markdown",
   "metadata": {},
   "source": [
    "Functions\n",
    "All Functions Transform Data"
   ]
  },
  {
   "cell_type": "code",
   "execution_count": 1,
   "metadata": {},
   "outputs": [
    {
     "name": "stdout",
     "output_type": "stream",
     "text": [
      "Original numbers: [1, 2, 3, 4, 5]\n",
      "Transformed numbers (squared): [1, 4, 9, 16, 25]\n"
     ]
    }
   ],
   "source": [
    "def square_numbers(numbers):\n",
    "    squared_numbers = []\n",
    "    for number in numbers:\n",
    "        squared_number = number ** 2\n",
    "        squared_numbers.append(squared_number)\n",
    "    return squared_numbers\n",
    "\n",
    "original_numbers = [1, 2, 3, 4, 5]\n",
    "transformed_numbers = square_numbers(original_numbers)\n",
    "\n",
    "print(\"Original numbers:\", original_numbers)\n",
    "print(\"Transformed numbers (squared):\", transformed_numbers)"
   ]
  },
  {
   "cell_type": "markdown",
   "metadata": {},
   "source": [
    "A genralized model for functions is:\n",
    "1) orignial data comes in\n",
    "2) original data is transformed\n",
    "3) transformed data goes out\n",
    "\n",
    "original data = input parameters\n",
    "transformed data = return value"
   ]
  },
  {
   "cell_type": "markdown",
   "metadata": {},
   "source": [
    "Functions can come in different forms based on the transformation and data\n",
    "\n",
    "Numeric Functions: abs(), max(), min(), sum(), etc.\n",
    "String Functions: len(), str(), format(), join(), etc.\n",
    "List and Tuple Functions: len(), sorted(), list(), tuple(), etc.\n",
    "Dictionary Functions: len(), keys(), values(), items(), etc.\n",
    "File and I/O Functions: open(), read(), write(), close(), etc.\n",
    "Type Conversion Functions: int(), float(), str(), list(), etc.\n",
    "Mathematical Functions: pow(), round(), divmod(), etc.\n",
    "Input and Output Functions: input(), print(), format(), etc.\n",
    "help()\n",
    "\n",
    "every single one TRANSFORMS data\n",
    "which is a map, but not THE MAP"
   ]
  },
  {
   "cell_type": "code",
   "execution_count": 3,
   "metadata": {},
   "outputs": [
    {
     "name": "stdout",
     "output_type": "stream",
     "text": [
      "Original numbers: [1, 2, 3, 4, 5]\n",
      "Squared numbers: [1, 4, 9, 16, 25]\n"
     ]
    }
   ],
   "source": [
    "def square(x):\n",
    "    return x ** 2\n",
    "numbers = [1, 2, 3, 4, 5]\n",
    "squared_numbers = map(square, numbers)\n",
    "squared_numbers_list = list(squared_numbers)\n",
    "print(\"Original numbers:\", numbers)\n",
    "print(\"Squared numbers:\", squared_numbers_list)"
   ]
  },
  {
   "cell_type": "markdown",
   "metadata": {},
   "source": [
    "Good Functions Gone Bad\n",
    "1) the function has more than 1 transform in it (do 1 thing only)\n",
    "2) you have really complex inputs - and you don't use all of them (YANGI)\n",
    "3) you do not seperate your input data from your outut data (Immutability)"
   ]
  },
  {
   "cell_type": "code",
   "execution_count": 6,
   "metadata": {},
   "outputs": [
    {
     "name": "stdout",
     "output_type": "stream",
     "text": [
      "[1, 4, 9, 16, 25]\n"
     ]
    }
   ],
   "source": [
    "def modify_items(items):\n",
    "    for i in range(len(items)):\n",
    "        items[i] = items[i] ** 2\n",
    "\n",
    "original_items = [1, 2, 3, 4, 5]\n",
    "modify_items(original_items)\n",
    "print(original_items)"
   ]
  },
  {
   "cell_type": "code",
   "execution_count": 8,
   "metadata": {},
   "outputs": [
    {
     "name": "stdout",
     "output_type": "stream",
     "text": [
      "[1, 2, 3, 4, 5]\n"
     ]
    }
   ],
   "source": [
    "def modify_items(items):\n",
    "    modified_items = []\n",
    "    for item in items:\n",
    "        modified_item = item ** 2\n",
    "        modified_items.append(modified_item)\n",
    "    return modified_items\n",
    "\n",
    "original_items = [1, 2, 3, 4, 5]\n",
    "modified_items = modify_items(original_items)\n",
    "print(original_items)"
   ]
  }
 ],
 "metadata": {
  "kernelspec": {
   "display_name": "base",
   "language": "python",
   "name": "python3"
  },
  "language_info": {
   "codemirror_mode": {
    "name": "ipython",
    "version": 3
   },
   "file_extension": ".py",
   "mimetype": "text/x-python",
   "name": "python",
   "nbconvert_exporter": "python",
   "pygments_lexer": "ipython3",
   "version": "3.10.11"
  }
 },
 "nbformat": 4,
 "nbformat_minor": 2
}
