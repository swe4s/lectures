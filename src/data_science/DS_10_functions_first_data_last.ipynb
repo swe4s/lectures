{
 "cells": [
  {
   "cell_type": "markdown",
   "metadata": {},
   "source": [
    "Functions First, Data Last\n",
    "\n",
    "Typical data science workflow\n",
    "Get Data -> Clean Data -> Analyze Data -> Report Data (charts)\n",
    "\n",
    "Typical machine learning workflow\n",
    "Get Data -> Clean Data -> Split Data -> Run Model -> Evaluate Model -> Report Result"
   ]
  },
  {
   "cell_type": "code",
   "execution_count": null,
   "metadata": {
    "vscode": {
     "languageId": "plaintext"
    }
   },
   "outputs": [],
   "source": [
    "What question are you answering?\n",
    "What does success look like?\n",
    "Write the report_data function\n",
    "-> what kind of chart?\n",
    "-> what kind of input data?\n",
    "(create moq data)"
   ]
  },
  {
   "cell_type": "markdown",
   "metadata": {},
   "source": [
    "Write  the analyze_data function\n",
    "you already know the return value\n",
    "hard-code output data in it\n",
    "then put in moq input\n",
    "run"
   ]
  },
  {
   "cell_type": "code",
   "execution_count": null,
   "metadata": {
    "vscode": {
     "languageId": "plaintext"
    }
   },
   "outputs": [],
   "source": [
    "Write the clean_data function \n",
    "you already know the return value\n",
    "hard-code output data in it\n",
    "then put in moq input\n",
    "run"
   ]
  },
  {
   "cell_type": "markdown",
   "metadata": {},
   "source": [
    "Write the get_data function\n",
    "you already know the return value\n",
    "hard-code output data in it\n",
    "then put in file_path input\n",
    "(now you create you config files - you now know what values you need to inject in)\n",
    "run.. and clean_data will fail\n",
    "so back to clean data and handle all anomolities/data inconsistencies\n"
   ]
  }
 ],
 "metadata": {
  "language_info": {
   "name": "python"
  }
 },
 "nbformat": 4,
 "nbformat_minor": 2
}
