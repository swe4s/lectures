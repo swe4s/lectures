{
 "cells": [
  {
   "cell_type": "markdown",
   "id": "691f4dfd-60d5-40c3-9802-5f3a7d6c9c8b",
   "metadata": {},
   "source": [
    "# Variables"
   ]
  },
  {
   "cell_type": "markdown",
   "id": "a0a1bb83-fb4e-4bb0-8cbc-78543018293a",
   "metadata": {},
   "source": [
    "Variables store values. Python does not require that you specify what type (integer, double, string, array) a variable will be, and you can switch types by reassigning the variable."
   ]
  },
  {
   "cell_type": "code",
   "execution_count": null,
   "id": "1de2d7f0-41f8-4bcf-b4c7-423cc35881bf",
   "metadata": {},
   "outputs": [],
   "source": [
    "a = 10\n",
    "b = 11\n",
    "print(a, b, a + b)\n",
    "b = '11'\n",
    "print(a, b, str(a) + b)"
   ]
  },
  {
   "cell_type": "markdown",
   "id": "2dd8a824-e0c8-40d9-a2f1-d371b5a3e235",
   "metadata": {},
   "source": [
    "## Types\n",
    "\n",
    "Each variable has a type. The type defines the data the variable can hold  Python has many [built-in data structures](https://docs.python.org/3/library/stdtypes.html#built-in-types) that you can use. Some common examples are (this is a *very* non-exhaustive list):\n",
    "\n",
    "- Numbers: `int` for integers; `float` for floating-point numbers\n",
    "- Boolean: `True` and `False`\n",
    "- Sequences (i.e., ordered):\n",
    "    - `list` - mutable (\"mutable\" = changeable)\n",
    "    - `tuple` - immutable\n",
    "- Strings (i.e., text sequence): `str`\n",
    "- Mappings:\n",
    "    - dictionary `dict`\n",
    "- Sets (i.e., unordered collection of distinct objects): `set`"
   ]
  },
  {
   "cell_type": "code",
   "execution_count": null,
   "id": "2c1fe52d-44cb-4722-827d-d7881997c6bc",
   "metadata": {
    "scrolled": true
   },
   "outputs": [],
   "source": [
    "print(type(1))\n",
    "print(type(1.2))\n",
    "print(type(True))\n",
    "print(type([1,2,3]))\n",
    "print(type((2,3,4)))\n",
    "print(type({\"a\": 1, \"b\": [1,2]}))\n",
    "print(type({1, \"a\"}))"
   ]
  },
  {
   "cell_type": "markdown",
   "id": "d9ccfb1c-9e37-42d0-b104-3516040f8a15",
   "metadata": {},
   "source": [
    "Each type has a collection of operations that are defined on it."
   ]
  },
  {
   "cell_type": "code",
   "execution_count": null,
   "id": "72a4c682-afd2-41d7-aea2-bd06559d5e85",
   "metadata": {},
   "outputs": [],
   "source": [
    "# ... examples ..."
   ]
  },
  {
   "cell_type": "markdown",
   "id": "3a25ddb2-e067-4dba-8703-31aefdfce326",
   "metadata": {},
   "source": [
    " You can see the operations in the documentation (e.g., [here](https://docs.python.org/3/library/stdtypes.html#sequence-types-list-tuple-range) for sequence types) or using `help(<type>)`."
   ]
  },
  {
   "cell_type": "code",
   "execution_count": 2,
   "id": "85e60fab-c0a8-48af-b224-95dbb07f89cd",
   "metadata": {},
   "outputs": [
    {
     "name": "stdout",
     "output_type": "stream",
     "text": [
      "Help on list object:\n",
      "\n",
      "class list(object)\n",
      " |  list(iterable=(), /)\n",
      " |  \n",
      " |  Built-in mutable sequence.\n",
      " |  \n",
      " |  If no argument is given, the constructor creates a new empty list.\n",
      " |  The argument must be an iterable if specified.\n",
      " |  \n",
      " |  Methods defined here:\n",
      " |  \n",
      " |  __add__(self, value, /)\n",
      " |      Return self+value.\n",
      " |  \n",
      " |  __contains__(self, key, /)\n",
      " |      Return key in self.\n",
      " |  \n",
      " |  __delitem__(self, key, /)\n",
      " |      Delete self[key].\n",
      " |  \n",
      " |  __eq__(self, value, /)\n",
      " |      Return self==value.\n",
      " |  \n",
      " |  __ge__(self, value, /)\n",
      " |      Return self>=value.\n",
      " |  \n",
      " |  __getattribute__(self, name, /)\n",
      " |      Return getattr(self, name).\n",
      " |  \n",
      " |  __getitem__(...)\n",
      " |      x.__getitem__(y) <==> x[y]\n",
      " |  \n",
      " |  __gt__(self, value, /)\n",
      " |      Return self>value.\n",
      " |  \n",
      " |  __iadd__(self, value, /)\n",
      " |      Implement self+=value.\n",
      " |  \n",
      " |  __imul__(self, value, /)\n",
      " |      Implement self*=value.\n",
      " |  \n",
      " |  __init__(self, /, *args, **kwargs)\n",
      " |      Initialize self.  See help(type(self)) for accurate signature.\n",
      " |  \n",
      " |  __iter__(self, /)\n",
      " |      Implement iter(self).\n",
      " |  \n",
      " |  __le__(self, value, /)\n",
      " |      Return self<=value.\n",
      " |  \n",
      " |  __len__(self, /)\n",
      " |      Return len(self).\n",
      " |  \n",
      " |  __lt__(self, value, /)\n",
      " |      Return self<value.\n",
      " |  \n",
      " |  __mul__(self, value, /)\n",
      " |      Return self*value.\n",
      " |  \n",
      " |  __ne__(self, value, /)\n",
      " |      Return self!=value.\n",
      " |  \n",
      " |  __repr__(self, /)\n",
      " |      Return repr(self).\n",
      " |  \n",
      " |  __reversed__(self, /)\n",
      " |      Return a reverse iterator over the list.\n",
      " |  \n",
      " |  __rmul__(self, value, /)\n",
      " |      Return value*self.\n",
      " |  \n",
      " |  __setitem__(self, key, value, /)\n",
      " |      Set self[key] to value.\n",
      " |  \n",
      " |  __sizeof__(self, /)\n",
      " |      Return the size of the list in memory, in bytes.\n",
      " |  \n",
      " |  append(self, object, /)\n",
      " |      Append object to the end of the list.\n",
      " |  \n",
      " |  clear(self, /)\n",
      " |      Remove all items from list.\n",
      " |  \n",
      " |  copy(self, /)\n",
      " |      Return a shallow copy of the list.\n",
      " |  \n",
      " |  count(self, value, /)\n",
      " |      Return number of occurrences of value.\n",
      " |  \n",
      " |  extend(self, iterable, /)\n",
      " |      Extend list by appending elements from the iterable.\n",
      " |  \n",
      " |  index(self, value, start=0, stop=9223372036854775807, /)\n",
      " |      Return first index of value.\n",
      " |      \n",
      " |      Raises ValueError if the value is not present.\n",
      " |  \n",
      " |  insert(self, index, object, /)\n",
      " |      Insert object before index.\n",
      " |  \n",
      " |  pop(self, index=-1, /)\n",
      " |      Remove and return item at index (default last).\n",
      " |      \n",
      " |      Raises IndexError if list is empty or index is out of range.\n",
      " |  \n",
      " |  remove(self, value, /)\n",
      " |      Remove first occurrence of value.\n",
      " |      \n",
      " |      Raises ValueError if the value is not present.\n",
      " |  \n",
      " |  reverse(self, /)\n",
      " |      Reverse *IN PLACE*.\n",
      " |  \n",
      " |  sort(self, /, *, key=None, reverse=False)\n",
      " |      Sort the list in ascending order and return None.\n",
      " |      \n",
      " |      The sort is in-place (i.e. the list itself is modified) and stable (i.e. the\n",
      " |      order of two equal elements is maintained).\n",
      " |      \n",
      " |      If a key function is given, apply it once to each list item and sort them,\n",
      " |      ascending or descending, according to their function values.\n",
      " |      \n",
      " |      The reverse flag can be set to sort in descending order.\n",
      " |  \n",
      " |  ----------------------------------------------------------------------\n",
      " |  Class methods defined here:\n",
      " |  \n",
      " |  __class_getitem__(...)\n",
      " |      See PEP 585\n",
      " |  \n",
      " |  ----------------------------------------------------------------------\n",
      " |  Static methods defined here:\n",
      " |  \n",
      " |  __new__(*args, **kwargs)\n",
      " |      Create and return a new object.  See help(type) for accurate signature.\n",
      " |  \n",
      " |  ----------------------------------------------------------------------\n",
      " |  Data and other attributes defined here:\n",
      " |  \n",
      " |  __hash__ = None\n",
      "\n"
     ]
    }
   ],
   "source": [
    "help(list)"
   ]
  },
  {
   "cell_type": "markdown",
   "id": "10b25456-a9b1-4de3-b9b6-1b6e52848291",
   "metadata": {},
   "source": [
    "# Control flow"
   ]
  },
  {
   "cell_type": "markdown",
   "id": "20a11f3c-159f-4034-9cf9-984d548a369a",
   "metadata": {},
   "source": [
    "## Conditional statements (if, elif, else)"
   ]
  },
  {
   "cell_type": "markdown",
   "id": "02a0d0d8-e183-4676-b220-f2d16756ce6c",
   "metadata": {},
   "source": [
    "`if` executes a block of code if a condition is true. `elif` (i.e., \"else if\") checks another condition if the preceding `if` condition is false. And `else` executes a block of code if none of the preceding conditions are true."
   ]
  },
  {
   "cell_type": "code",
   "execution_count": null,
   "id": "f063611e-2ae4-4a3d-ae75-e69a4c815643",
   "metadata": {},
   "outputs": [],
   "source": [
    "x = 0\n",
    "if x > 0:\n",
    "   print(\"x is positive\")\n",
    "elif x < 0:\n",
    "   print(\"x is negative\")\n",
    "else:\n",
    "   print(\"x is zero\")"
   ]
  },
  {
   "cell_type": "markdown",
   "id": "0b3d589a-60fa-47ff-8a3f-25c1a180d4e5",
   "metadata": {},
   "source": [
    "## Loops (for, while)\n",
    "\n",
    "`for` iterates over a sequence (like a list, tuple, or string)."
   ]
  },
  {
   "cell_type": "code",
   "execution_count": null,
   "id": "1d8e73b8-04f8-4a74-afb8-f977ed06781f",
   "metadata": {},
   "outputs": [],
   "source": [
    "fruits = [\"apple\", \"banana\", \"cherry\"]\n",
    "for fruit in fruits:\n",
    "   print(fruit)"
   ]
  },
  {
   "cell_type": "markdown",
   "id": "1411eaf7-92c5-4b13-b5b9-08115a9a3eac",
   "metadata": {},
   "source": [
    "`while` executes a block of code repeatedly as long as a condition is true."
   ]
  },
  {
   "cell_type": "code",
   "execution_count": null,
   "id": "15ad01d8-d7d4-4585-9930-38073d4d8bc8",
   "metadata": {},
   "outputs": [],
   "source": [
    "count = 0\n",
    "while count < 5:\n",
    "    print(count)\n",
    "    count += 1"
   ]
  },
  {
   "cell_type": "markdown",
   "id": "e782a905-7b9a-416f-b751-c9c15dd19357",
   "metadata": {},
   "source": [
    "`break` exits a loop when the `break` statement is hit."
   ]
  },
  {
   "cell_type": "code",
   "execution_count": null,
   "id": "2fd02a33-2dad-4d68-980c-a5237510a909",
   "metadata": {},
   "outputs": [],
   "source": [
    "for i in range(10):\n",
    "    if i == 5:\n",
    "        break\n",
    "    print(i)\n",
    "print(\"\\n END \\n\")\n",
    "print(i)"
   ]
  },
  {
   "cell_type": "markdown",
   "id": "b19a36eb-6b52-4bd2-92e9-99aa0fdb6394",
   "metadata": {},
   "source": [
    "`continue` skips the rest of the current iteration and proceeds to the next one."
   ]
  },
  {
   "cell_type": "code",
   "execution_count": null,
   "id": "ef0a39f1-afc7-4893-b36e-45e1a0e3219b",
   "metadata": {},
   "outputs": [],
   "source": [
    "for i in range(10):\n",
    "    if i % 2 == 0:\n",
    "        continue\n",
    "    print(i)"
   ]
  },
  {
   "cell_type": "markdown",
   "id": "6b14a49c-c284-423b-99d7-42f9181db119",
   "metadata": {},
   "source": [
    "You can use the \"logical operators\" `and`, `or`, and `not` to combine conditions"
   ]
  },
  {
   "cell_type": "code",
   "execution_count": null,
   "id": "f4fb330f-9455-47ac-b516-dad6b429d17b",
   "metadata": {},
   "outputs": [],
   "source": [
    "age = 25\n",
    "\n",
    "if age < 18:\n",
    "    print(\"Minor\")\n",
    "elif age >= 18 and age < 65:\n",
    "    print(\"Adult\")\n",
    "else:\n",
    "    print(\"Senior\")"
   ]
  },
  {
   "cell_type": "markdown",
   "id": "f73e2909-d91c-4b09-a35f-2f5a2b08afcc",
   "metadata": {},
   "source": [
    "## Indentation \n",
    "\n",
    "In Python, code blocks are defined by indentation, meaning that groups of statements within functions, loops, or conditionals are visually grouped by the same level of indentation. Unlike many other programming languages, Python uses indentation rather than braces or keywords to signify the start and end of these blocks, making the code structure both clear and crucial for execution."
   ]
  },
  {
   "cell_type": "code",
   "execution_count": null,
   "id": "920c1450-1d53-4b6e-a884-e49425e6c6a5",
   "metadata": {},
   "outputs": [],
   "source": [
    "i = 10\n",
    "j = 11\n",
    "\n",
    "# Code block that runs but is not following convention--too few indentation spaces\n",
    "if i < j:\n",
    " print( str(i) + ' is less than ' + str(j))\n",
    " print( str(j) + ' is not less than ' + str(i))\n",
    "\n",
    "# Code blocks that run and are following convention\n",
    "if i > j:\n",
    "    print( str(i) + ' greater than ' + str(j))\n",
    "print( str(j) + ' is not greater than ' + str(i))"
   ]
  },
  {
   "cell_type": "markdown",
   "id": "3c07b811-49cb-4380-8c6e-2c7a173db06c",
   "metadata": {},
   "source": [
    "# Functions"
   ]
  },
  {
   "cell_type": "markdown",
   "id": "c89c7d8c-8d83-40f6-afe3-283082c136ef",
   "metadata": {},
   "source": [
    "Functions are a useful way of simplifying code and allowing portions to be reused. In Python, function declarations begin with the `def` statement, then the function name, and last the parameters. In the function definition, parameters with a default value must come after non-default parameters. Parameters can be passed to a function by position or name."
   ]
  },
  {
   "cell_type": "code",
   "execution_count": null,
   "id": "c6feb114-0550-447d-b7c9-369aae1d97c9",
   "metadata": {},
   "outputs": [],
   "source": [
    "def is_equal(a, b, delta=0.001):\n",
    "    print(f\"a={a}, b={b}, delta={delta}\")\n",
    "    return abs(a - b) < delta\n",
    "\n",
    "print(is_equal(0.001,0.002,0.005))\n",
    "print(is_equal(0.001, 0.002, delta=0.001))\n",
    "print(is_equal(b=0.001, a=0.002, delta=0.001))"
   ]
  },
  {
   "cell_type": "markdown",
   "id": "35d5edc8-33a7-4ddd-92be-aeeb20ec070e",
   "metadata": {},
   "source": [
    "# File input/output (i/o)"
   ]
  },
  {
   "cell_type": "markdown",
   "id": "87e62d66-fbdd-45d6-97bc-65156e8964ab",
   "metadata": {},
   "source": [
    "## Reading a file"
   ]
  },
  {
   "cell_type": "markdown",
   "id": "106b4ca9-9318-4edd-ac71-0a0ec176cc2a",
   "metadata": {},
   "source": [
    "Reading a file in Python is easy: open it, loop over the lines, and close it. The `open` function takes the path to the target file and a single character that sets the mode (how you want to use the file). Here we are reading so we use `'r'`. To open a file for writing, use `'w'`. There are eight options for the mode that cover other needs. See the full list [here](https://docs.python.org/3.6/library/functions.html#open). `open` returns a file object that we can then loop over (assuming it is a text file) to get one line at a time. The character that separates one line from the next is called a newline character, which can be `\\n`, `\\r`, or `\\r\\n` depending on how the file was created and on what operating system.  The `for` loop will stop when it reaches the end of the file at which point the file needs to be closed"
   ]
  },
  {
   "cell_type": "code",
   "execution_count": null,
   "id": "091c31fb-ba92-4419-aa0e-9e095085888b",
   "metadata": {},
   "outputs": [],
   "source": [
    "file_name = 'us-counties.csv'\n",
    "\n",
    "f = open(file_name, 'r')\n",
    "print(type(f))\n",
    "for line_num, line in enumerate(f):\n",
    "    print(line, end='')\n",
    "    if line_num == 5:\n",
    "        break\n",
    "f.close()\n"
   ]
  },
  {
   "cell_type": "markdown",
   "id": "31b0d469-bb2c-4db2-ab96-eacc51e8097f",
   "metadata": {},
   "source": [
    "# Importing code"
   ]
  },
  {
   "cell_type": "markdown",
   "id": "803e480c-b0b9-4d8f-87e2-157e143b5c4f",
   "metadata": {},
   "source": [
    "`import` statements allow Python scripts to use code defined in other modules and/or packages. The [Python Standard Library](https://docs.python.org/3/library/) has many modules that can be imported directly. If a module or package is not in the standard library, then it must be downloaded and installed (e.g., `mamba install`, `pip install`) before it can be imported and used in your scripts. "
   ]
  },
  {
   "cell_type": "code",
   "execution_count": null,
   "id": "f3ab10ec-44bf-45ba-81c8-1a9b36385d94",
   "metadata": {},
   "outputs": [],
   "source": [
    "import math\n",
    "import random\n",
    "\n",
    "a = 1\n",
    "b = 100\n",
    "r1 = random.randint(a, b)\n",
    "r2 = random.randint(a, b)\n",
    "print(r1, r2, math.gcd(r1, r2))"
   ]
  },
  {
   "cell_type": "markdown",
   "id": "a6f80977-29c5-43cf-ace1-93092866abd4",
   "metadata": {},
   "source": [
    "# Exercise - Fibonacci & Lucas numbers\n",
    "\n",
    "1. Create a new environment, activate the environment, install Jupyter, and open a Jupyter notebook.\n",
    "\n",
    "```bash\n",
    "mamba create -n <name> python=3.11\n",
    "mamba activate <name>\n",
    "mama install jupyter -y\n",
    "jupyter notebook\n",
    "```\n",
    "\n",
    "2. Write code whose input is a natural number $n > 1$ and whose output is a dictionary with two keys: \"fibonacci\" and \"lucas\". The value of the \"fibonacci\" key should be a list of the first $n$ [Fibonacci numbers](https://en.wikipedia.org/wiki/Fibonacci_sequence). The value of the \"lucas\" key should be a list of the first $n$ [Lucas numbers](https://en.wikipedia.org/wiki/Lucas_number).\n",
    "\n",
    "    To do this, write a function that returns a list of Fibonacci numbers, a function that returns a list of Lucas numbers, and a wrapper function that calls the either two functions to create the dictionary. In the wrapper function you could also add code to check that the input $n$ is a natural number that satisfies $n > 1$. \n",
    "\n",
    "3. Using the built-in [`set` type](https://docs.python.org/3.11/library/stdtypes.html#set-types-set-frozenset) compare the [union, intersection, and set differences](https://www.probabilitycourse.com/chapter1/1_2_2_set_operations.php) between the $n=100$ Fibonacci numbers and Lucas numbers."
   ]
  },
  {
   "cell_type": "markdown",
   "id": "fdeb18db-6736-4f4b-90fe-a6e243d0b1d2",
   "metadata": {},
   "source": [
    "# Miscellaneous factoids"
   ]
  },
  {
   "cell_type": "markdown",
   "id": "776d5cc4-c910-4e27-90e2-96531eacf03b",
   "metadata": {
    "jp-MarkdownHeadingCollapsed": true
   },
   "source": [
    "#### Module vs package\n",
    "\n",
    "In Python, modules and packages are related concepts used to organize and structure code, but they serve slightly different purposes. \n",
    "\n",
    "**Module**:\n",
    "- A module is a single file containing Python code (with a .py extension)\n",
    "- It can include functions, classes, and variables, as well as runnable code\n",
    "- Modules help in organizing code into manageable sections, making it reusable and easier to maintain.\n",
    "\n",
    "**Package**:\n",
    "- A package is a collection of related modules organized in a directory hierarchy enabling you to structure your code more effectively, especially for larger projects\n",
    "- A package is typically a directory containing a special `__init__.py` file (which can be empty) and one or more modules."
   ]
  },
  {
   "cell_type": "markdown",
   "id": "22fb8f55-beff-49c2-8737-d27e219d49ef",
   "metadata": {},
   "source": [
    "#### Function signature\n",
    "\n",
    "A function signature in Python refers to the function's name, its parameter list (including positional, keyword, default, and variable-length arguments), and the return type (if specified), defining how the function can be called."
   ]
  },
  {
   "cell_type": "markdown",
   "id": "dc206c22-1b29-4a38-af7a-c95c45d8e978",
   "metadata": {},
   "source": [
    "#### Python typing\n",
    "\n",
    "In Python, ***implicit type declaration*** refers to the way the language automatically infers the type of a variable based on the value assigned to it, without requiring explicit type declarations from the programmer. Python is a ***dynamically typed language*** which means that you do not need to specify the type of a variable when you create it. The type is determined at runtime based on the value it holds. For example,\n",
    "\n",
    "```python\n",
    "x = 10        # x is implicitly declared as an integer\n",
    "y = 3.14      # y is implicitly declared as a float\n",
    "name = \"Alice\" # name is implicitly declared as a string\n",
    "```"
   ]
  },
  {
   "cell_type": "markdown",
   "id": "aad8e91c-e697-422d-913e-2c4c682738df",
   "metadata": {},
   "source": [
    "#### Getting help\n",
    "\n",
    "The `help(<object>)` function in Python provides a way to access the built-in documentation for the specified `object`. It displays information about the object's methods, attributes, and any associated documentation strings (docstrings). This helps you understand how to use the object and what functionalities are available.\n",
    "\n",
    "In Jupyter notebooks, you can use `help(<object>)` or you can do the same thing with `?<object>`. \n",
    "\n",
    "You can see the available methods and operations for a Python type by using the `dir()` function. For example, `dir(str)` will list all methods and attributes available for the str (string) type."
   ]
  }
 ],
 "metadata": {
  "kernelspec": {
   "display_name": "Python 3 (ipykernel)",
   "language": "python",
   "name": "python3"
  },
  "language_info": {
   "codemirror_mode": {
    "name": "ipython",
    "version": 3
   },
   "file_extension": ".py",
   "mimetype": "text/x-python",
   "name": "python",
   "nbconvert_exporter": "python",
   "pygments_lexer": "ipython3",
   "version": "3.11.9"
  }
 },
 "nbformat": 4,
 "nbformat_minor": 5
}
