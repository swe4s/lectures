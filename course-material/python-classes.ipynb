{
 "cells": [
  {
   "cell_type": "code",
   "execution_count": null,
   "id": "ae5ec7a2",
   "metadata": {
    "ExecuteTime": {
     "end_time": "2024-09-09T15:48:18.873523Z",
     "start_time": "2024-09-09T15:48:18.856194Z"
    }
   },
   "outputs": [],
   "source": [
    "# Display all of cell's output (https://stackoverflow.com/questions/36786722/how-to-display-full-output-in-jupyter-not-only-last-result)\n",
    "from IPython.core.interactiveshell import InteractiveShell\n",
    "InteractiveShell.ast_node_interactivity = \"all\""
   ]
  },
  {
   "cell_type": "markdown",
   "id": "3bb39856",
   "metadata": {},
   "source": [
    "# Classes and object-oriented programming (OOP)"
   ]
  },
  {
   "cell_type": "markdown",
   "id": "4fe7a1ca",
   "metadata": {},
   "source": [
    "Classes/objects package two things: data and functions that do things with the data. E.g., if you were modeling a car, you could package attributes like speed and car model (data) and behaviors like accelerate or brake (methods)."
   ]
  },
  {
   "cell_type": "code",
   "execution_count": null,
   "id": "51a07587",
   "metadata": {
    "ExecuteTime": {
     "end_time": "2024-09-09T15:58:06.512314Z",
     "start_time": "2024-09-09T15:58:06.496341Z"
    }
   },
   "outputs": [],
   "source": [
    "class Car:\n",
    "    def __init__(self, model): \n",
    "        self.model = model # data/attribute\n",
    "        self.current_speed = 0 # data/attribute\n",
    "        \n",
    "    def accelerate(self, speed_change=0): # function/method\n",
    "        print(f\"I, {self.model}, am going to change my speed by {speed_change}\")\n",
    "        self.current_speed += speed_change\n",
    "        "
   ]
  },
  {
   "cell_type": "code",
   "execution_count": null,
   "id": "ff351491",
   "metadata": {
    "ExecuteTime": {
     "end_time": "2024-09-09T15:59:00.282902Z",
     "start_time": "2024-09-09T15:59:00.262000Z"
    }
   },
   "outputs": [],
   "source": [
    "x = Car(model=\"Prius\")\n",
    "type(x)\n",
    "x.model, x.current_speed\n",
    "x.accelerate(speed_change=1)\n",
    "x.current_speed"
   ]
  },
  {
   "cell_type": "markdown",
   "id": "81e63669",
   "metadata": {},
   "source": [
    "A common analogy is that a class is like the blueprint for a house. You can use the blueprint to create several houses and even a complete neighborhood. Each concrete house is an ***object*** or ***instance*** that’s derived from the blueprint.\n",
    "\n",
    "Some lingo: \n",
    "\n",
    "In OOP the term ***attributes*** refers to the properties or data associated with a specific object of a given class. In Python, attributes are variables defined inside a class with the purpose of storing the required data for the class to work. In the `Car` class above, `model` and `current_speed` are attributes.\n",
    "\n",
    "The term ***methods*** refers to the different behaviors/things classes can do. Methods are functions that you define within a class. These functions typically operate on or with the attributes of the underlying instance or class. In the `Car` class above, `accelerate` is a method.\n",
    "\n",
    "Basically,\n",
    "\n",
    "- attributes = data/variables in the class\n",
    "- methods = functions in the class\n",
    "\n",
    "The ***state*** of an object is the data or attributes held by the object at a particular moment. You use the data to define the object’s current state and the methods to operate on that data or state.\n",
    "\n",
    "The action of creating concrete objects from an existing class is known as ***instantiation***. With every instantiation, you create a new object of the target class\n",
    "\n",
    "## Why (and why not to) use classes and OOP?\n",
    "\n",
    "Here are some reasons why classes and OOP are useful.\n",
    "\n",
    "1. Intuitive Structure: OOP mirrors the way we think about the world. Objects in OOP correspond to real-world entities, making it easier to design and understand complex systems. You model a car, for example, with attributes like model and color (data) and behaviors like accelerate or brake (methods).\n",
    "\n",
    "2. Modularity: OOP promotes breaking down a program into smaller, self-contained units (objects). Each object is responsible for a specific part of the system, which makes the program easier to manage and modify. This modularity reduces complexity and allows developers to work on different parts of a program simultaneously.\n",
    "\n",
    "3. Code Reusability: Through inheritance, OOP allows you to create new classes based on existing ones, reducing redundancy. If you have a base class, like \"Vehicle,\" you can create subclasses (e.g., \"Car\" and \"Motorcycle\") that inherit common properties and behaviors, while adding specific functionality.\n",
    "\n",
    "4. Encapsulation: Encapsulation is the bundling of data and methods that operate on that data within an object, hiding the internal workings from the outside world. This prevents unintended interference and misuse, ensuring better control over how data is accessed or modified.\n",
    "\n",
    "5. Maintainability: Because of the modular and organized nature of OOP, it's easier to maintain and update systems. If a bug or change is needed, you can often update just a single class or object without impacting the entire system.\n",
    "\n",
    "6. Scalability and Flexibility: OOP systems are easier to scale, allowing new features and objects to be added without major changes to the existing codebase. You can extend functionality through polymorphism where objects of different types can be treated as instances of the same class (in some situations), e.g., sequence types like strings, lists, and tuples.\n",
    "\n",
    "7. Abstraction: OOP allows developers to focus on high-level functionality without getting bogged down by lower-level details. By defining clear interfaces and abstract classes, you can create complex systems where the implementation details are hidden, reducing complexity and making collaboration easier.\n",
    "\n",
    "In essence, OOP provides a clean, organized, and efficient way to write software, which is especially beneficial for large-scale, complex applications. Its principles align with the human way of thinking, making it a natural and effective approach to software development.\n",
    "\n",
    "Classes can be overused and overkill at times. See [here](https://realpython.com/python-classes/#deciding-when-to-avoid-classes) for some situations in which and reasons why you might not want to use classes. Rather than relying on rules from on high, I suggest thinking about the problem at hand and coming to reasonable conclusion about whether the problem warrants packaging data with behavior. If you can explain to someone else (and yourself) why you chose to use a class, that's perfect. They may have a different opinion but reasonable minds can disagree and talk it out :)"
   ]
  },
  {
   "cell_type": "markdown",
   "id": "cd3e58b4",
   "metadata": {},
   "source": [
    "## Nuts and bolts of classes"
   ]
  },
  {
   "cell_type": "markdown",
   "id": "bfa4856a",
   "metadata": {},
   "source": [
    "- **Class constructor/`__init__`**: The `__init__()` method has a special meaning in Python classes. This method is known as the \"object initializer\" or \"class constructor\"  because it defines and sets the initial values for the object’s attributes. It is run when you initialize an object.\n",
    "\n",
    "- **Accessing object attributes and methods**: You can access the attributes and methods of an object by using \"dot notation\". E.g.,\n",
    "    ```\n",
    "    obj.attribute_name\n",
    "    obj.method_name()\n",
    "    ```\n",
    "  The dot (.) in this syntax means \"give me the following attribute or method from this object\".\n",
    " \n",
    "- **Naming convention**: Python is a flexible language that loves freedom and doesn’t like to have hard restrictions. Because of that, the language and the community rely on conventions rather than restrictions. For most names, the convention is to use snake_case which involves using underscores to separate multiple words. This is used for functions, methods, variables, and attributes. However, the naming convention for Python classes is PascalCase where each word is capitalized."
   ]
  },
  {
   "cell_type": "markdown",
   "id": "054d8307",
   "metadata": {},
   "source": [
    "- **Class attributes**: Class attributes are variables that you define directly in the class body but outside of any method. These attributes are tied to the class itself rather than to particular objects of that class."
   ]
  },
  {
   "cell_type": "code",
   "execution_count": null,
   "id": "921c07e1",
   "metadata": {
    "ExecuteTime": {
     "end_time": "2024-09-09T16:32:39.185229Z",
     "start_time": "2024-09-09T16:32:39.162747Z"
    },
    "scrolled": false
   },
   "outputs": [],
   "source": [
    "class ObjectCounter:\n",
    "    num_instances = 0\n",
    "    def __init__(self):\n",
    "        ObjectCounter.num_instances += 1\n",
    "        \n",
    "x = ObjectCounter()\n",
    "x.num_instances\n",
    "_ = ObjectCounter()\n",
    "x.num_instances\n",
    "y = ObjectCounter()\n",
    "x.num_instances, y.num_instances\n",
    "\n",
    "ObjectCounter.num_instances"
   ]
  },
  {
   "cell_type": "markdown",
   "id": "2942adbb",
   "metadata": {},
   "source": [
    "- **Instance attributes**: Instance attributes are variables tied to a particular object of a given class. The value of an instance attribute is attached to the object itself. Inside a class, you must access all instance attributes through the `self` argument. This argument holds a reference to the current instance which is where the attributes belong and live. "
   ]
  },
  {
   "cell_type": "code",
   "execution_count": null,
   "id": "f8448832",
   "metadata": {
    "ExecuteTime": {
     "end_time": "2024-09-09T16:39:33.637120Z",
     "start_time": "2024-09-09T16:39:33.616100Z"
    }
   },
   "outputs": [],
   "source": [
    "class Car:\n",
    "    def __init__(self, make, model, year, color):\n",
    "        self.make = make\n",
    "        self.model = model\n",
    "        self.year = year\n",
    "        self.color = color\n",
    "        self.started = False\n",
    "        self.speed = 0\n",
    "        self.max_speed = 200\n",
    "    \n",
    "    def accelerate(self):\n",
    "        print(\"shit\")\n",
    "        \n",
    "Car.__dict__\n",
    "Car(make=\"a\", model=\"b\", year=\"c\", color=\"d\").__dict__"
   ]
  },
  {
   "cell_type": "markdown",
   "id": "ae9ed697",
   "metadata": {},
   "source": [
    "## Methods"
   ]
  },
  {
   "cell_type": "markdown",
   "id": "641cac73",
   "metadata": {},
   "source": [
    "A method is just a function that you define inside a class. By defining it there, you make the relationship between the class and the method explicit and clear. In a Python class, you can define three different types of methods:\n",
    "\n",
    "1. Instance methods which take the current instance, `self`, as their first argument\n",
    "2. Class methods which take the current class, `cls`, as their first argument\n",
    "3. Static methods which take neither the instance nor the class as an argument\n",
    "\n",
    "Every type of method has its own characteristics and specific use cases. Instance methods are, by far, the most common methods that you’ll use in your custom Python classes.\n",
    "\n",
    "### Instance methods\n",
    "\n",
    "To define an instance method, you just need to write a regular function that accepts self as its first argument."
   ]
  },
  {
   "cell_type": "code",
   "execution_count": null,
   "id": "8a930158",
   "metadata": {
    "ExecuteTime": {
     "end_time": "2024-09-09T16:55:35.024721Z",
     "start_time": "2024-09-09T16:55:35.005502Z"
    }
   },
   "outputs": [],
   "source": [
    "class Car:\n",
    "    def __init__(self, make, model, year, color):\n",
    "        self.make = make\n",
    "        self.model = model\n",
    "        self.year = year\n",
    "        self.color = color\n",
    "        self.started = False\n",
    "        self.speed = 0\n",
    "        self.max_speed = 200\n",
    "\n",
    "    def start(self):\n",
    "        print(\"Starting the car...\")\n",
    "        self.started = True\n",
    "\n",
    "    def stop(self):\n",
    "        print(\"Stopping the car...\")\n",
    "        self.started = False\n",
    "        \n",
    "    def accelerate(self, value):\n",
    "        if not self.started:\n",
    "            print(\"Car is not started!\")\n",
    "            return\n",
    "        if self.speed + value <= self.max_speed:\n",
    "            self.speed += value\n",
    "        else:\n",
    "            self.speed = self.max_speed\n",
    "        print(f\"Accelerating to {self.speed} km/h...\")\n",
    "\n",
    "    def brake(self, value):\n",
    "        if self.speed - value >= 0:\n",
    "            self.speed -= value\n",
    "        else:\n",
    "            self.speed = 0\n",
    "        print(f\"Braking to {self.speed} km/h...\")\n",
    "        \n",
    "# Let's drive!\n",
    "ford_mustang = Car(\"Ford\", \"Mustang\", 2022, \"Black\")\n",
    "ford_mustang.start()\n",
    "# ford_mustang.accelerate(100)\n",
    "# ford_mustang.brake(50)\n",
    "# ford_mustang.brake(80)\n",
    "# ford_mustang.stop()\n",
    "# ford_mustang.accelerate(100)"
   ]
  },
  {
   "cell_type": "markdown",
   "id": "d8d487a2",
   "metadata": {},
   "source": [
    "### Class methods\n",
    "\n",
    "A class method is a method that takes the class object, `cls`, as its first argument instead of taking `self`. Providing your classes with multiple constructors is one of the most common use cases of class methods in Python."
   ]
  },
  {
   "cell_type": "code",
   "execution_count": null,
   "id": "8822bfe6",
   "metadata": {
    "ExecuteTime": {
     "end_time": "2024-09-09T17:02:39.532108Z",
     "start_time": "2024-09-09T17:02:39.515317Z"
    }
   },
   "outputs": [],
   "source": [
    "class ThreeDPoint:\n",
    "    def __init__(self, x, y, z):\n",
    "        self.x = x\n",
    "        self.y = y\n",
    "        self.z = z\n",
    "\n",
    "    @classmethod\n",
    "    def from_sequence(cls, sequence):\n",
    "        return cls(*sequence)\n",
    "    \n",
    "pt = ThreeDPoint.from_sequence((1, 2, 3))\n",
    "pt.x, pt.y, pt.z"
   ]
  },
  {
   "cell_type": "markdown",
   "id": "91169559",
   "metadata": {},
   "source": [
    "#### Unpacking aside\n",
    "\n",
    "The `*sequence` syntax is used for unpacking. It takes a sequence (like a list, tuple, or other iterable) and expands its elements when passed into functions or assignments. In both cases, `*sequence` allows you to flexibly unpack elements, making code more concise and readable."
   ]
  },
  {
   "cell_type": "code",
   "execution_count": null,
   "id": "b0a29959",
   "metadata": {
    "ExecuteTime": {
     "end_time": "2024-09-09T17:06:02.330838Z",
     "start_time": "2024-09-09T17:06:02.315565Z"
    }
   },
   "outputs": [],
   "source": [
    "# Function argument unpacking example\n",
    "def add(x, y, z):\n",
    "    return x + y + z\n",
    "\n",
    "numbers = [1, 2, 3]\n",
    "print(f\"add = {add(*numbers)}\")  # Equivalent to add(1, 2, 3)\n",
    "\n",
    "# Variable assignment unpacking example\n",
    "first, *middle, last = [1, 2, 3, 4, 5]\n",
    "print(f\"first = {first}\")   # 1\n",
    "print(f\"middle = {middle}\")  # [2, 3, 4]\n",
    "print(f\"last = {last}\")    # 5"
   ]
  },
  {
   "cell_type": "markdown",
   "id": "cbbd82e8",
   "metadata": {},
   "source": [
    "The `**` syntax is used for unpacking dictionaries or keyword arguments. It works in two primary contexts:\n",
    "\n",
    "1. Function keyword argument unpacking: When calling a function, `**` is used to unpack a dictionary and pass its key-value pairs as keyword arguments."
   ]
  },
  {
   "cell_type": "code",
   "execution_count": null,
   "id": "50b5c528",
   "metadata": {
    "ExecuteTime": {
     "end_time": "2024-09-09T17:07:51.571364Z",
     "start_time": "2024-09-09T17:07:51.555801Z"
    }
   },
   "outputs": [],
   "source": [
    "def greet(first_name, last_name):\n",
    "    print(f\"Hello, {first_name} {last_name}!\")\n",
    "\n",
    "person = {\"first_name\": \"John\", \"last_name\": \"Doe\"}\n",
    "greet(**person)  # Equivalent to greet(first_name=\"John\", last_name=\"Doe\")"
   ]
  },
  {
   "cell_type": "markdown",
   "id": "8807383b",
   "metadata": {},
   "source": [
    "2. Function definition with keyword arguments: In function definitions, `**kwargs` is used to capture additional keyword arguments passed to a function as a dictionary."
   ]
  },
  {
   "cell_type": "code",
   "execution_count": null,
   "id": "8822f35b",
   "metadata": {
    "ExecuteTime": {
     "end_time": "2024-09-09T17:08:45.187931Z",
     "start_time": "2024-09-09T17:08:45.172287Z"
    }
   },
   "outputs": [],
   "source": [
    "def describe_person(name, **kwargs):\n",
    "    print(f\"Name: {name}\")\n",
    "    for key, value in kwargs.items():\n",
    "        print(f\"{key}: {value}\")\n",
    "\n",
    "describe_person(\"Alice\", age=30, job=\"Engineer\")"
   ]
  },
  {
   "cell_type": "markdown",
   "id": "db9ae5b9",
   "metadata": {},
   "source": [
    "Here, `**kwargs` captures the extra keyword arguments (age=30 and job=\"Engineer\") as a dictionary."
   ]
  },
  {
   "cell_type": "markdown",
   "id": "86eaf56f",
   "metadata": {},
   "source": [
    "### Static methods"
   ]
  },
  {
   "cell_type": "markdown",
   "id": "904b4692",
   "metadata": {},
   "source": [
    "Your Python classes can also have static methods. These methods don’t take the instance or the class as an argument. They’re regular functions defined within a class. You could’ve also defined them outside the class as stand-alone function. You’ll typically define a static method instead of a regular function outside the class when that function is closely related to your class, and you want to bundle it together for convenience."
   ]
  },
  {
   "cell_type": "code",
   "execution_count": null,
   "id": "f5b91582",
   "metadata": {
    "ExecuteTime": {
     "end_time": "2024-09-09T17:13:01.593221Z",
     "start_time": "2024-09-09T17:13:01.576849Z"
    }
   },
   "outputs": [],
   "source": [
    "class ThreeDPoint:\n",
    "    def __init__(self, x, y, z):\n",
    "        self.x = x\n",
    "        self.y = y\n",
    "        self.z = z\n",
    "\n",
    "    @classmethod\n",
    "    def from_sequence(cls, sequence):\n",
    "        return cls(*sequence)\n",
    "    \n",
    "    @staticmethod\n",
    "    def show_intro_message(name):\n",
    "        print(f\"Hey {name}! This is your 3D Point!\")\n",
    "        \n",
    "ThreeDPoint.show_intro_message(\"Bob\")\n",
    "ThreeDPoint(x=1, y=2, z=3).show_intro_message(\"Terence\")"
   ]
  },
  {
   "cell_type": "markdown",
   "id": "a3f470b0",
   "metadata": {},
   "source": [
    "## Inheritance"
   ]
  },
  {
   "cell_type": "markdown",
   "id": "12ad5aa3",
   "metadata": {},
   "source": [
    "Inheritance is a powerful feature of object-oriented programming. It consists of creating hierarchical relationships between classes where child classes inherit attributes and methods from their parent class."
   ]
  },
  {
   "cell_type": "code",
   "execution_count": null,
   "id": "8fb9b8e4",
   "metadata": {},
   "outputs": [],
   "source": [
    "class Vehicle:\n",
    "    def __init__(self, make, model, year):\n",
    "        self.make = make\n",
    "        self.model = model\n",
    "        self.year = year\n",
    "        self._started = False\n",
    "\n",
    "    def start(self):\n",
    "        print(\"Starting engine...\")\n",
    "        self._started = True\n",
    "\n",
    "    def stop(self):\n",
    "        print(\"Stopping engine...\")\n",
    "        self._started = False\n",
    "        \n",
    "class Car(Vehicle):\n",
    "    def __init__(self, make, model, year, num_seats):\n",
    "        super().__init__(make, model, year)\n",
    "        self.num_seats = num_seats\n",
    "\n",
    "    def drive(self):\n",
    "        print(f'Driving my \"{self.make} - {self.model}\" on the road')\n",
    "\n",
    "class Motorcycle(Vehicle):\n",
    "    def __init__(self, make, model, year, num_wheels):\n",
    "        super().__init__(make, model, year)\n",
    "        self.num_wheels = num_wheels\n",
    "\n",
    "    def ride(self):\n",
    "        print(f'Riding my \"{self.make} - {self.model}\" on the road')\n",
    "        \n",
    "tesla = Car(\"Tesla\", \"Model S\", 2022, 5)\n",
    "tesla.start()\n",
    "tesla.drive()\n",
    "tesla.stop()\n",
    "\n",
    "harley = Motorcycle(\"Harley-Davidson\", \"Iron 883\", 2021, 2)\n",
    "harley.start()\n",
    "harley.ride()\n",
    "harley.stop()"
   ]
  },
  {
   "cell_type": "markdown",
   "id": "18d96d73",
   "metadata": {},
   "source": [
    "Some lingo: you’ll see the terms ***parent class***, ***superclass***, and ***base class*** used interchangeably to refer to the class that you inherit from. And you’ll see the terms ***child class***, ***derived class***, and ***subclass*** to refer to classes that inherit from other classes."
   ]
  },
  {
   "cell_type": "markdown",
   "id": "6978e88e",
   "metadata": {},
   "source": [
    "## Special methods"
   ]
  },
  {
   "cell_type": "markdown",
   "id": "ad395f9d",
   "metadata": {},
   "source": [
    "Python supports what it calls ***special methods*** which are also known as ***dunder methods*** or ***magic methods***. These methods are typically instance methods and they’re a fundamental part of Python’s internal class mechanism. The [official Python glossary](https://docs.python.org/3/glossary.html#term-special-method) says a special method is \"a method that is called implicitly by Python to execute a certain operation on a type, such as addition. Such methods have names starting and ending with double underscores\". The name \"dunder\" comes from \"double underscore\".  The `__init__()` method is probably the most common special method in Python classes. As you already know, this method works as the instance initializer. Python automatically calls it when you call a class constructor.\n",
    "\n",
    "For example, the `__str__()` and `__repr__()` methods provide string representations for your objects. The `__str__()` method provides what’s known as the ***informal string representation*** of an object. This method must return a string that represents the object in a user-friendly manner. You can access an object’s informal string representation using either `str()` or `print()`.\n",
    "\n",
    "The `__repr__()` method is similar, but it must return a string that allows you to re-create the object if possible. So, this method returns what’s known as the ***formal string representation*** of an object. This string representation is mostly targeted at Python programmers, and it’s pretty useful when you’re working in an interactive REPL session (\"REPL\" stands for Read-Eval-Print Loop. It is an interactive programming environment that reads user inputs (expressions or commands), evaluates them, prints the results, and then loops back to read the next input. In Python, the REPL is the interactive Python shell you get when you type python or python3 in your terminal). "
   ]
  },
  {
   "cell_type": "code",
   "execution_count": null,
   "id": "6153ae97",
   "metadata": {
    "ExecuteTime": {
     "end_time": "2024-09-09T17:33:44.823915Z",
     "start_time": "2024-09-09T17:33:44.772557Z"
    }
   },
   "outputs": [],
   "source": [
    "class Car:\n",
    "    def __init__(self, make, model, year, color):\n",
    "        self.make = make\n",
    "        self.model = model\n",
    "        self.year = year\n",
    "        self.color = color\n",
    "        self.started = False\n",
    "        self.speed = 0\n",
    "        self.max_speed = 200\n",
    "\n",
    "    def __str__(self):\n",
    "        return f\"{self.make} {self.model}, {self.color} ({self.year})\"\n",
    "\n",
    "    def __repr__(self):\n",
    "        return (\n",
    "            f\"{type(self).__name__}\"\n",
    "            f'(make=\"{self.make}\", '\n",
    "            f'model=\"{self.model}\", '\n",
    "            f\"year={self.year}, \"\n",
    "            f'color=\"{self.color}\")'\n",
    "        )\n",
    "\n",
    "toyota_camry = Car(\"Toyota\", \"Camry\", 2022, \"Red\")\n",
    "\n",
    "str(toyota_camry)\n",
    "print(toyota_camry)\n",
    "toyota_camry\n",
    "repr(toyota_camry)"
   ]
  },
  {
   "cell_type": "code",
   "execution_count": null,
   "id": "517becbc",
   "metadata": {
    "ExecuteTime": {
     "end_time": "2024-09-09T17:35:55.469794Z",
     "start_time": "2024-09-09T17:35:55.454285Z"
    }
   },
   "outputs": [],
   "source": [
    "class ThreeDPoint:\n",
    "    def __init__(self, x, y, z):\n",
    "        self.x = x\n",
    "        self.y = y\n",
    "        self.z = z\n",
    "        \n",
    "    def __iter__(self): # makes object iterable\n",
    "        yield from (self.x, self.y, self.z) \n",
    "        \n",
    "for pt in ThreeDPoint(1, 2, 3):\n",
    "    print(pt)"
   ]
  },
  {
   "cell_type": "markdown",
   "id": "c6e3fa2f",
   "metadata": {},
   "source": [
    "## Public and private attributes and methods"
   ]
  },
  {
   "cell_type": "markdown",
   "id": "05a2a2d5",
   "metadata": {},
   "source": [
    "The first naming convention that you need to know about is related to the fact that Python doesn’t distinguish between private, protected, and public attributes like Java and other languages do. In Python, all attributes are accessible in one way or another.\n",
    "\n",
    "However, Python has a well-established naming convention that you should use to communicate that an attribute or method isn’t intended for use from outside its containing class or object. The naming convention consists of adding a leading underscore to the member’s name. So, in a Python class, you’ll have the following conventions:\n",
    "\n",
    "| Member | Naming | Examples | \n",
    "| - | - | - |\n",
    "| Public | Use the normal naming pattern | `radius`, `calculate_area()` |\n",
    "| Non-public/private |\tInclude a leading underscore in names |\t`_radius`, `_calculate_area()` |"
   ]
  },
  {
   "cell_type": "markdown",
   "id": "483486c3",
   "metadata": {},
   "source": [
    "## Test yourself!\n",
    "\n",
    "Get into teams of 2-3, preferably with people who have a similar-ish amount of coding experience as you.\n",
    "\n",
    "Let's write a Python class to represent DNA sequences.\n",
    "The initialization of an object should look like `DNASeq(<DNA sequence string>)`, e.g., `DNASeq(\"atgctggca\")`.\n",
    "Implement everything in whatever way you see fit but include the following functionality:\n",
    "\n",
    "- Raise an error (Google or ask ChatGPT how to do this!) if the input string is not DNA, i.e., contains characters other than \"a\", \"t\", \"c\", and \"g\". E.g., `DNASeq(\"atr\")` should throw an error.\n",
    "\n",
    "- Allow the input to be upper- or lower-case letters (or both). E.g., the initializations `DNASeq(\"atgc\")`, `DNASeq(\"ATGC\")`, and `DNASeq(\"aTGc\")` should all be allowed\n",
    "\n",
    "- Include a method (what type of method should it be?), `count`, that counts the number of times a given string appears in the DNA sequence. E.g., `DNASeq(\"ATGACATG\").count(\"AT\")` should return `2`\n",
    "\n",
    "- Include a method (what type of method should it be?), `from_file`, that takes a path to a file of DNA sequences, one per line, and returns a list of `DNASeq` instances, one for each line. E.g., for the file `dna_seqs.txt`:\n",
    "    ```\n",
    "    atg\n",
    "    agc\n",
    "    tgac\n",
    "    ```\n",
    "    `DNASeq.from_file(\"path/to/dna_seqs.txt\")` would return the list `[DNASeq(\"atg\"), DNASeq(\"agc\"), DNASeq(\"tgac\")]`. \n",
    "\n",
    "- Include a method (what type of method should it be?) that prints \"I'm a DNA sequence!\"\n",
    "\n",
    "- Add the special methods `__str__`, `__repr__`, and `__len__`. So that, for example, `str(DNASeq(\"atg\"))` returns \"ATG\", `repr(DNASeq(\"atg\"))` returns \"DNASeq(seq='atg')\", and `len(DNASeq(\"atg\"))` returns 3. "
   ]
  }
 ],
 "metadata": {
  "kernelspec": {
   "display_name": "Python 3 (ipykernel)",
   "language": "python",
   "name": "python3"
  },
  "language_info": {
   "codemirror_mode": {
    "name": "ipython",
    "version": 3
   },
   "file_extension": ".py",
   "mimetype": "text/x-python",
   "name": "python",
   "nbconvert_exporter": "python",
   "pygments_lexer": "ipython3",
   "version": "3.11.9"
  },
  "toc": {
   "base_numbering": 1,
   "nav_menu": {},
   "number_sections": true,
   "sideBar": true,
   "skip_h1_title": false,
   "title_cell": "Table of Contents",
   "title_sidebar": "Contents",
   "toc_cell": false,
   "toc_position": {},
   "toc_section_display": true,
   "toc_window_display": true
  }
 },
 "nbformat": 4,
 "nbformat_minor": 5
}
